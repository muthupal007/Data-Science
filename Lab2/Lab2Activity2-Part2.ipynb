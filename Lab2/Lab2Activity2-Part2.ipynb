{
 "cells": [
  {
   "cell_type": "code",
   "execution_count": 1,
   "metadata": {
    "collapsed": true
   },
   "outputs": [],
   "source": [
    "t<-as.data.frame(read.csv(\"team.csv\"))\n",
    "p<-as.data.frame(read.csv(\"player.csv\"))"
   ]
  },
  {
   "cell_type": "code",
   "execution_count": 2,
   "metadata": {
    "collapsed": false
   },
   "outputs": [
    {
     "data": {
      "text/html": [
       "<table>\n",
       "<thead><tr><th scope=col>player_name</th><th scope=col>overall_rating</th></tr></thead>\n",
       "<tbody>\n",
       "\t<tr><td>Lionel Messi     </td><td>94               </td></tr>\n",
       "\t<tr><td>Cristiano Ronaldo</td><td>93               </td></tr>\n",
       "\t<tr><td>Wayne Rooney     </td><td>93               </td></tr>\n",
       "\t<tr><td>Gianluigi Buffon </td><td>93               </td></tr>\n",
       "\t<tr><td>Gregory Coupet   </td><td>92               </td></tr>\n",
       "\t<tr><td>Xavi Hernandez   </td><td>92               </td></tr>\n",
       "\t<tr><td>Fabio Cannavaro  </td><td>91               </td></tr>\n",
       "\t<tr><td>Andres Iniesta   </td><td>91               </td></tr>\n",
       "\t<tr><td>Ronaldinho       </td><td>91               </td></tr>\n",
       "\t<tr><td>Alessandro Nesta </td><td>91               </td></tr>\n",
       "</tbody>\n",
       "</table>\n"
      ],
      "text/latex": [
       "\\begin{tabular}{r|ll}\n",
       " player\\_name & overall\\_rating\\\\\n",
       "\\hline\n",
       "\t Lionel Messi      & 94               \\\\\n",
       "\t Cristiano Ronaldo & 93               \\\\\n",
       "\t Wayne Rooney      & 93               \\\\\n",
       "\t Gianluigi Buffon  & 93               \\\\\n",
       "\t Gregory Coupet    & 92               \\\\\n",
       "\t Xavi Hernandez    & 92               \\\\\n",
       "\t Fabio Cannavaro   & 91               \\\\\n",
       "\t Andres Iniesta    & 91               \\\\\n",
       "\t Ronaldinho        & 91               \\\\\n",
       "\t Alessandro Nesta  & 91               \\\\\n",
       "\\end{tabular}\n"
      ],
      "text/markdown": [
       "\n",
       "player_name | overall_rating | \n",
       "|---|---|---|---|---|---|---|---|---|---|\n",
       "| Lionel Messi      | 94                | \n",
       "| Cristiano Ronaldo | 93                | \n",
       "| Wayne Rooney      | 93                | \n",
       "| Gianluigi Buffon  | 93                | \n",
       "| Gregory Coupet    | 92                | \n",
       "| Xavi Hernandez    | 92                | \n",
       "| Fabio Cannavaro   | 91                | \n",
       "| Andres Iniesta    | 91                | \n",
       "| Ronaldinho        | 91                | \n",
       "| Alessandro Nesta  | 91                | \n",
       "\n",
       "\n"
      ],
      "text/plain": [
       "   player_name       overall_rating\n",
       "1  Lionel Messi      94            \n",
       "2  Cristiano Ronaldo 93            \n",
       "3  Wayne Rooney      93            \n",
       "4  Gianluigi Buffon  93            \n",
       "5  Gregory Coupet    92            \n",
       "6  Xavi Hernandez    92            \n",
       "7  Fabio Cannavaro   91            \n",
       "8  Andres Iniesta    91            \n",
       "9  Ronaldinho        91            \n",
       "10 Alessandro Nesta  91            "
      ]
     },
     "metadata": {},
     "output_type": "display_data"
    }
   ],
   "source": [
    "#Which are the top 10 players by overall rating?\n",
    "\n",
    "p <- p[rev(order(p$overall_rating)),]\n",
    "rownames(p) <- NULL\n",
    "head(p[,c(4,5)],10)"
   ]
  },
  {
   "cell_type": "code",
   "execution_count": 3,
   "metadata": {
    "collapsed": false
   },
   "outputs": [
    {
     "data": {
      "text/html": [
       "<table>\n",
       "<thead><tr><th scope=col>player_name</th><th scope=col>gk_attributes</th></tr></thead>\n",
       "<tbody>\n",
       "\t<tr><td>Gianluigi Buffon </td><td>449              </td></tr>\n",
       "\t<tr><td>Gregory Coupet   </td><td>447              </td></tr>\n",
       "\t<tr><td>Petr Cech        </td><td>445              </td></tr>\n",
       "\t<tr><td>Iker Casillas    </td><td>442              </td></tr>\n",
       "\t<tr><td>Manuel Neuer     </td><td>440              </td></tr>\n",
       "\t<tr><td>Julio Cesar      </td><td>438              </td></tr>\n",
       "\t<tr><td>Sebastian Frey   </td><td>437              </td></tr>\n",
       "\t<tr><td>Edwin van der Sar</td><td>436              </td></tr>\n",
       "\t<tr><td>David De Gea     </td><td>429              </td></tr>\n",
       "\t<tr><td>Pepe Reina       </td><td>428              </td></tr>\n",
       "</tbody>\n",
       "</table>\n"
      ],
      "text/latex": [
       "\\begin{tabular}{r|ll}\n",
       " player\\_name & gk\\_attributes\\\\\n",
       "\\hline\n",
       "\t Gianluigi Buffon  & 449              \\\\\n",
       "\t Gregory Coupet    & 447              \\\\\n",
       "\t Petr Cech         & 445              \\\\\n",
       "\t Iker Casillas     & 442              \\\\\n",
       "\t Manuel Neuer      & 440              \\\\\n",
       "\t Julio Cesar       & 438              \\\\\n",
       "\t Sebastian Frey    & 437              \\\\\n",
       "\t Edwin van der Sar & 436              \\\\\n",
       "\t David De Gea      & 429              \\\\\n",
       "\t Pepe Reina        & 428              \\\\\n",
       "\\end{tabular}\n"
      ],
      "text/markdown": [
       "\n",
       "player_name | gk_attributes | \n",
       "|---|---|---|---|---|---|---|---|---|---|\n",
       "| Gianluigi Buffon  | 449               | \n",
       "| Gregory Coupet    | 447               | \n",
       "| Petr Cech         | 445               | \n",
       "| Iker Casillas     | 442               | \n",
       "| Manuel Neuer      | 440               | \n",
       "| Julio Cesar       | 438               | \n",
       "| Sebastian Frey    | 437               | \n",
       "| Edwin van der Sar | 436               | \n",
       "| David De Gea      | 429               | \n",
       "| Pepe Reina        | 428               | \n",
       "\n",
       "\n"
      ],
      "text/plain": [
       "   player_name       gk_attributes\n",
       "1  Gianluigi Buffon  449          \n",
       "2  Gregory Coupet    447          \n",
       "3  Petr Cech         445          \n",
       "4  Iker Casillas     442          \n",
       "5  Manuel Neuer      440          \n",
       "6  Julio Cesar       438          \n",
       "7  Sebastian Frey    437          \n",
       "8  Edwin van der Sar 436          \n",
       "9  David De Gea      429          \n",
       "10 Pepe Reina        428          "
      ]
     },
     "metadata": {},
     "output_type": "display_data"
    }
   ],
   "source": [
    "#Which are the top 10 goalkeepers by sum of gk attributes?\n",
    "\n",
    "p <- p[rev(order(p$gk_attributes)),]\n",
    "rownames(p) <- NULL\n",
    "head(p[,c(4,6)],10)"
   ]
  },
  {
   "cell_type": "code",
   "execution_count": 4,
   "metadata": {
    "collapsed": false
   },
   "outputs": [
    {
     "data": {
      "text/html": [
       "<table>\n",
       "<thead><tr><th scope=col>player_name</th><th scope=col>total_appearances</th></tr></thead>\n",
       "<tbody>\n",
       "\t<tr><td>Steve Mandanda      </td><td>300                 </td></tr>\n",
       "\t<tr><td>Stephane Ruffier    </td><td>294                 </td></tr>\n",
       "\t<tr><td>Gorka Iraizoz Moreno</td><td>286                 </td></tr>\n",
       "\t<tr><td>Samir Handanovic    </td><td>286                 </td></tr>\n",
       "\t<tr><td>Tim Howard          </td><td>282                 </td></tr>\n",
       "\t<tr><td>Hugo Lloris         </td><td>282                 </td></tr>\n",
       "\t<tr><td>Joe Hart            </td><td>275                 </td></tr>\n",
       "\t<tr><td>Cedric Carrasso     </td><td>268                 </td></tr>\n",
       "\t<tr><td>Daniel Congre       </td><td>262                 </td></tr>\n",
       "\t<tr><td>Moussa Sissoko      </td><td>260                 </td></tr>\n",
       "</tbody>\n",
       "</table>\n"
      ],
      "text/latex": [
       "\\begin{tabular}{r|ll}\n",
       " player\\_name & total\\_appearances\\\\\n",
       "\\hline\n",
       "\t Steve Mandanda       & 300                 \\\\\n",
       "\t Stephane Ruffier     & 294                 \\\\\n",
       "\t Gorka Iraizoz Moreno & 286                 \\\\\n",
       "\t Samir Handanovic     & 286                 \\\\\n",
       "\t Tim Howard           & 282                 \\\\\n",
       "\t Hugo Lloris          & 282                 \\\\\n",
       "\t Joe Hart             & 275                 \\\\\n",
       "\t Cedric Carrasso      & 268                 \\\\\n",
       "\t Daniel Congre        & 262                 \\\\\n",
       "\t Moussa Sissoko       & 260                 \\\\\n",
       "\\end{tabular}\n"
      ],
      "text/markdown": [
       "\n",
       "player_name | total_appearances | \n",
       "|---|---|---|---|---|---|---|---|---|---|\n",
       "| Steve Mandanda       | 300                  | \n",
       "| Stephane Ruffier     | 294                  | \n",
       "| Gorka Iraizoz Moreno | 286                  | \n",
       "| Samir Handanovic     | 286                  | \n",
       "| Tim Howard           | 282                  | \n",
       "| Hugo Lloris          | 282                  | \n",
       "| Joe Hart             | 275                  | \n",
       "| Cedric Carrasso      | 268                  | \n",
       "| Daniel Congre        | 262                  | \n",
       "| Moussa Sissoko       | 260                  | \n",
       "\n",
       "\n"
      ],
      "text/plain": [
       "   player_name          total_appearances\n",
       "1  Steve Mandanda       300              \n",
       "2  Stephane Ruffier     294              \n",
       "3  Gorka Iraizoz Moreno 286              \n",
       "4  Samir Handanovic     286              \n",
       "5  Tim Howard           282              \n",
       "6  Hugo Lloris          282              \n",
       "7  Joe Hart             275              \n",
       "8  Cedric Carrasso      268              \n",
       "9  Daniel Congre        262              \n",
       "10 Moussa Sissoko       260              "
      ]
     },
     "metadata": {},
     "output_type": "display_data"
    }
   ],
   "source": [
    "#Which are the top 10 players by number of appearances (with any team they played with)?\n",
    "\n",
    "p <- p[rev(order(p$total_appearances)),]\n",
    "rownames(p) <- NULL\n",
    "head(p[,c(4,3)],10)"
   ]
  },
  {
   "cell_type": "code",
   "execution_count": 5,
   "metadata": {
    "collapsed": false
   },
   "outputs": [
    {
     "data": {
      "text/html": [
       "<table>\n",
       "<thead><tr><th scope=col>player_name</th><th scope=col>leagues_played</th></tr></thead>\n",
       "<tbody>\n",
       "\t<tr><td>Gelson Fernandes       </td><td>6                      </td></tr>\n",
       "\t<tr><td>Filip Djuricic         </td><td>5                      </td></tr>\n",
       "\t<tr><td>Ricky van Wolfswinkel  </td><td>5                      </td></tr>\n",
       "\t<tr><td>Jose Campana           </td><td>4                      </td></tr>\n",
       "\t<tr><td>Stefan Scepovic        </td><td>4                      </td></tr>\n",
       "\t<tr><td>Oguchi Onyewu          </td><td>4                      </td></tr>\n",
       "\t<tr><td>Eidur Gudjohnsen       </td><td>4                      </td></tr>\n",
       "\t<tr><td>Nelson Oliveira        </td><td>4                      </td></tr>\n",
       "\t<tr><td>Florent Sinama-Pongolle</td><td>4                      </td></tr>\n",
       "\t<tr><td>Olivier Kapo           </td><td>4                      </td></tr>\n",
       "</tbody>\n",
       "</table>\n"
      ],
      "text/latex": [
       "\\begin{tabular}{r|ll}\n",
       " player\\_name & leagues\\_played\\\\\n",
       "\\hline\n",
       "\t Gelson Fernandes        & 6                      \\\\\n",
       "\t Filip Djuricic          & 5                      \\\\\n",
       "\t Ricky van Wolfswinkel   & 5                      \\\\\n",
       "\t Jose Campana            & 4                      \\\\\n",
       "\t Stefan Scepovic         & 4                      \\\\\n",
       "\t Oguchi Onyewu           & 4                      \\\\\n",
       "\t Eidur Gudjohnsen        & 4                      \\\\\n",
       "\t Nelson Oliveira         & 4                      \\\\\n",
       "\t Florent Sinama-Pongolle & 4                      \\\\\n",
       "\t Olivier Kapo            & 4                      \\\\\n",
       "\\end{tabular}\n"
      ],
      "text/markdown": [
       "\n",
       "player_name | leagues_played | \n",
       "|---|---|---|---|---|---|---|---|---|---|\n",
       "| Gelson Fernandes        | 6                       | \n",
       "| Filip Djuricic          | 5                       | \n",
       "| Ricky van Wolfswinkel   | 5                       | \n",
       "| Jose Campana            | 4                       | \n",
       "| Stefan Scepovic         | 4                       | \n",
       "| Oguchi Onyewu           | 4                       | \n",
       "| Eidur Gudjohnsen        | 4                       | \n",
       "| Nelson Oliveira         | 4                       | \n",
       "| Florent Sinama-Pongolle | 4                       | \n",
       "| Olivier Kapo            | 4                       | \n",
       "\n",
       "\n"
      ],
      "text/plain": [
       "   player_name             leagues_played\n",
       "1  Gelson Fernandes        6             \n",
       "2  Filip Djuricic          5             \n",
       "3  Ricky van Wolfswinkel   5             \n",
       "4  Jose Campana            4             \n",
       "5  Stefan Scepovic         4             \n",
       "6  Oguchi Onyewu           4             \n",
       "7  Eidur Gudjohnsen        4             \n",
       "8  Nelson Oliveira         4             \n",
       "9  Florent Sinama-Pongolle 4             \n",
       "10 Olivier Kapo            4             "
      ]
     },
     "metadata": {},
     "output_type": "display_data"
    }
   ],
   "source": [
    "#Which are the top 10 players by number of leagues they played in?\n",
    "\n",
    "p <- p[rev(order(p$leagues_played)),]\n",
    "rownames(p) <- NULL\n",
    "head(p[,c(4,2)],10)"
   ]
  },
  {
   "cell_type": "code",
   "execution_count": 6,
   "metadata": {
    "collapsed": false
   },
   "outputs": [
    {
     "data": {
      "text/html": [
       "<table>\n",
       "<thead><tr><th scope=col>team_long_name</th><th scope=col>buildup_ovr</th></tr></thead>\n",
       "<tbody>\n",
       "\t<tr><td>Torino                    </td><td>209                       </td></tr>\n",
       "\t<tr><td>Udinese                   </td><td>205                       </td></tr>\n",
       "\t<tr><td>Fortuna Düsseldorf        </td><td>198                       </td></tr>\n",
       "\t<tr><td>Podbeskidzie Bielsko-Biala</td><td>193                       </td></tr>\n",
       "\t<tr><td>Korona Kielce             </td><td>192                       </td></tr>\n",
       "\t<tr><td>Carpi                     </td><td>190                       </td></tr>\n",
       "\t<tr><td>Widzew Lódz               </td><td>190                       </td></tr>\n",
       "\t<tr><td>Widzew Lódz               </td><td>190                       </td></tr>\n",
       "\t<tr><td>FC Nantes                 </td><td>189                       </td></tr>\n",
       "\t<tr><td>Lazio                     </td><td>188                       </td></tr>\n",
       "</tbody>\n",
       "</table>\n"
      ],
      "text/latex": [
       "\\begin{tabular}{r|ll}\n",
       " team\\_long\\_name & buildup\\_ovr\\\\\n",
       "\\hline\n",
       "\t Torino                     & 209                       \\\\\n",
       "\t Udinese                    & 205                       \\\\\n",
       "\t Fortuna Düsseldorf         & 198                       \\\\\n",
       "\t Podbeskidzie Bielsko-Biala & 193                       \\\\\n",
       "\t Korona Kielce              & 192                       \\\\\n",
       "\t Carpi                      & 190                       \\\\\n",
       "\t Widzew Lódz                & 190                       \\\\\n",
       "\t Widzew Lódz                & 190                       \\\\\n",
       "\t FC Nantes                  & 189                       \\\\\n",
       "\t Lazio                      & 188                       \\\\\n",
       "\\end{tabular}\n"
      ],
      "text/markdown": [
       "\n",
       "team_long_name | buildup_ovr | \n",
       "|---|---|---|---|---|---|---|---|---|---|\n",
       "| Torino                     | 209                        | \n",
       "| Udinese                    | 205                        | \n",
       "| Fortuna Düsseldorf         | 198                        | \n",
       "| Podbeskidzie Bielsko-Biala | 193                        | \n",
       "| Korona Kielce              | 192                        | \n",
       "| Carpi                      | 190                        | \n",
       "| Widzew Lódz                | 190                        | \n",
       "| Widzew Lódz                | 190                        | \n",
       "| FC Nantes                  | 189                        | \n",
       "| Lazio                      | 188                        | \n",
       "\n",
       "\n"
      ],
      "text/plain": [
       "   team_long_name             buildup_ovr\n",
       "1  Torino                     209        \n",
       "2  Udinese                    205        \n",
       "3  Fortuna Düsseldorf         198        \n",
       "4  Podbeskidzie Bielsko-Biala 193        \n",
       "5  Korona Kielce              192        \n",
       "6  Carpi                      190        \n",
       "7  Widzew Lódz                190        \n",
       "8  Widzew Lódz                190        \n",
       "9  FC Nantes                  189        \n",
       "10 Lazio                      188        "
      ]
     },
     "metadata": {},
     "output_type": "display_data"
    }
   ],
   "source": [
    "#Which are the top 10 teams by sum of build up play attributes?\n",
    "\n",
    "t <- na.omit(t[rev(order(t$buildup_ovr)),])\n",
    "rownames(t) <- NULL\n",
    "head(t[,c(3,4)],10)"
   ]
  },
  {
   "cell_type": "code",
   "execution_count": 7,
   "metadata": {
    "collapsed": false
   },
   "outputs": [
    {
     "data": {
      "text/html": [
       "<table>\n",
       "<thead><tr><th scope=col>team_long_name</th><th scope=col>chance_ovr</th></tr></thead>\n",
       "<tbody>\n",
       "\t<tr><td>Lazio                  </td><td>220                    </td></tr>\n",
       "\t<tr><td>SV Werder Bremen       </td><td>216                    </td></tr>\n",
       "\t<tr><td>Napoli                 </td><td>215                    </td></tr>\n",
       "\t<tr><td>Manchester City        </td><td>210                    </td></tr>\n",
       "\t<tr><td>Swansea City           </td><td>210                    </td></tr>\n",
       "\t<tr><td>Tottenham Hotspur      </td><td>210                    </td></tr>\n",
       "\t<tr><td>Wolverhampton Wanderers</td><td>210                    </td></tr>\n",
       "\t<tr><td>Queens Park Rangers    </td><td>210                    </td></tr>\n",
       "\t<tr><td>Reading                </td><td>210                    </td></tr>\n",
       "\t<tr><td>Rangers                </td><td>210                    </td></tr>\n",
       "</tbody>\n",
       "</table>\n"
      ],
      "text/latex": [
       "\\begin{tabular}{r|ll}\n",
       " team\\_long\\_name & chance\\_ovr\\\\\n",
       "\\hline\n",
       "\t Lazio                   & 220                    \\\\\n",
       "\t SV Werder Bremen        & 216                    \\\\\n",
       "\t Napoli                  & 215                    \\\\\n",
       "\t Manchester City         & 210                    \\\\\n",
       "\t Swansea City            & 210                    \\\\\n",
       "\t Tottenham Hotspur       & 210                    \\\\\n",
       "\t Wolverhampton Wanderers & 210                    \\\\\n",
       "\t Queens Park Rangers     & 210                    \\\\\n",
       "\t Reading                 & 210                    \\\\\n",
       "\t Rangers                 & 210                    \\\\\n",
       "\\end{tabular}\n"
      ],
      "text/markdown": [
       "\n",
       "team_long_name | chance_ovr | \n",
       "|---|---|---|---|---|---|---|---|---|---|\n",
       "| Lazio                   | 220                     | \n",
       "| SV Werder Bremen        | 216                     | \n",
       "| Napoli                  | 215                     | \n",
       "| Manchester City         | 210                     | \n",
       "| Swansea City            | 210                     | \n",
       "| Tottenham Hotspur       | 210                     | \n",
       "| Wolverhampton Wanderers | 210                     | \n",
       "| Queens Park Rangers     | 210                     | \n",
       "| Reading                 | 210                     | \n",
       "| Rangers                 | 210                     | \n",
       "\n",
       "\n"
      ],
      "text/plain": [
       "   team_long_name          chance_ovr\n",
       "1  Lazio                   220       \n",
       "2  SV Werder Bremen        216       \n",
       "3  Napoli                  215       \n",
       "4  Manchester City         210       \n",
       "5  Swansea City            210       \n",
       "6  Tottenham Hotspur       210       \n",
       "7  Wolverhampton Wanderers 210       \n",
       "8  Queens Park Rangers     210       \n",
       "9  Reading                 210       \n",
       "10 Rangers                 210       "
      ]
     },
     "metadata": {},
     "output_type": "display_data"
    }
   ],
   "source": [
    "#Which are the top 10 teams by sum of chance creation attributes?\n",
    "\n",
    "t <- na.omit(t[rev(order(t$chance_ovr)),])\n",
    "rownames(t) <- NULL\n",
    "head(t[,c(3,5)],10)"
   ]
  },
  {
   "cell_type": "code",
   "execution_count": 8,
   "metadata": {
    "collapsed": false
   },
   "outputs": [
    {
     "data": {
      "text/html": [
       "<table>\n",
       "<thead><tr><th scope=col>team_long_name</th><th scope=col>defence_ovr</th></tr></thead>\n",
       "<tbody>\n",
       "\t<tr><td>Sporting Charleroi    </td><td>210                   </td></tr>\n",
       "\t<tr><td>SC Bastia             </td><td>210                   </td></tr>\n",
       "\t<tr><td>Montpellier Hérault SC</td><td>210                   </td></tr>\n",
       "\t<tr><td>Jagiellonia Bialystok </td><td>210                   </td></tr>\n",
       "\t<tr><td>OGC Nice              </td><td>210                   </td></tr>\n",
       "\t<tr><td>KVC Westerlo          </td><td>210                   </td></tr>\n",
       "\t<tr><td>Stade Brestois 29     </td><td>210                   </td></tr>\n",
       "\t<tr><td>AS Nancy-Lorraine     </td><td>210                   </td></tr>\n",
       "\t<tr><td>Hannover 96           </td><td>210                   </td></tr>\n",
       "\t<tr><td>1. FC Kaiserslautern  </td><td>210                   </td></tr>\n",
       "</tbody>\n",
       "</table>\n"
      ],
      "text/latex": [
       "\\begin{tabular}{r|ll}\n",
       " team\\_long\\_name & defence\\_ovr\\\\\n",
       "\\hline\n",
       "\t Sporting Charleroi     & 210                   \\\\\n",
       "\t SC Bastia              & 210                   \\\\\n",
       "\t Montpellier Hérault SC & 210                   \\\\\n",
       "\t Jagiellonia Bialystok  & 210                   \\\\\n",
       "\t OGC Nice               & 210                   \\\\\n",
       "\t KVC Westerlo           & 210                   \\\\\n",
       "\t Stade Brestois 29      & 210                   \\\\\n",
       "\t AS Nancy-Lorraine      & 210                   \\\\\n",
       "\t Hannover 96            & 210                   \\\\\n",
       "\t 1. FC Kaiserslautern   & 210                   \\\\\n",
       "\\end{tabular}\n"
      ],
      "text/markdown": [
       "\n",
       "team_long_name | defence_ovr | \n",
       "|---|---|---|---|---|---|---|---|---|---|\n",
       "| Sporting Charleroi     | 210                    | \n",
       "| SC Bastia              | 210                    | \n",
       "| Montpellier Hérault SC | 210                    | \n",
       "| Jagiellonia Bialystok  | 210                    | \n",
       "| OGC Nice               | 210                    | \n",
       "| KVC Westerlo           | 210                    | \n",
       "| Stade Brestois 29      | 210                    | \n",
       "| AS Nancy-Lorraine      | 210                    | \n",
       "| Hannover 96            | 210                    | \n",
       "| 1. FC Kaiserslautern   | 210                    | \n",
       "\n",
       "\n"
      ],
      "text/plain": [
       "   team_long_name         defence_ovr\n",
       "1  Sporting Charleroi     210        \n",
       "2  SC Bastia              210        \n",
       "3  Montpellier Hérault SC 210        \n",
       "4  Jagiellonia Bialystok  210        \n",
       "5  OGC Nice               210        \n",
       "6  KVC Westerlo           210        \n",
       "7  Stade Brestois 29      210        \n",
       "8  AS Nancy-Lorraine      210        \n",
       "9  Hannover 96            210        \n",
       "10 1. FC Kaiserslautern   210        "
      ]
     },
     "metadata": {},
     "output_type": "display_data"
    }
   ],
   "source": [
    "#Which are the top 10 teams by sum of defense attributes?\n",
    "\n",
    "t <- na.omit(t[rev(order(t$defence_ovr)),])\n",
    "rownames(t) <- NULL\n",
    "head(t[,c(3,6)],10)"
   ]
  },
  {
   "cell_type": "code",
   "execution_count": 9,
   "metadata": {
    "collapsed": false
   },
   "outputs": [
    {
     "data": {
      "text/html": [
       "<table>\n",
       "<thead><tr><th scope=col>team_long_name</th><th scope=col>total_goals</th></tr></thead>\n",
       "<tbody>\n",
       "\t<tr><td>FC Barcelona     </td><td>849              </td></tr>\n",
       "\t<tr><td>Real Madrid CF   </td><td>843              </td></tr>\n",
       "\t<tr><td>Celtic           </td><td>695              </td></tr>\n",
       "\t<tr><td>FC Bayern Munich </td><td>653              </td></tr>\n",
       "\t<tr><td>PSV              </td><td>652              </td></tr>\n",
       "\t<tr><td>Ajax             </td><td>647              </td></tr>\n",
       "\t<tr><td>FC Basel         </td><td>619              </td></tr>\n",
       "\t<tr><td>Manchester City  </td><td>606              </td></tr>\n",
       "\t<tr><td>Chelsea          </td><td>583              </td></tr>\n",
       "\t<tr><td>Manchester United</td><td>582              </td></tr>\n",
       "</tbody>\n",
       "</table>\n"
      ],
      "text/latex": [
       "\\begin{tabular}{r|ll}\n",
       " team\\_long\\_name & total\\_goals\\\\\n",
       "\\hline\n",
       "\t FC Barcelona      & 849              \\\\\n",
       "\t Real Madrid CF    & 843              \\\\\n",
       "\t Celtic            & 695              \\\\\n",
       "\t FC Bayern Munich  & 653              \\\\\n",
       "\t PSV               & 652              \\\\\n",
       "\t Ajax              & 647              \\\\\n",
       "\t FC Basel          & 619              \\\\\n",
       "\t Manchester City   & 606              \\\\\n",
       "\t Chelsea           & 583              \\\\\n",
       "\t Manchester United & 582              \\\\\n",
       "\\end{tabular}\n"
      ],
      "text/markdown": [
       "\n",
       "team_long_name | total_goals | \n",
       "|---|---|---|---|---|---|---|---|---|---|\n",
       "| FC Barcelona      | 849               | \n",
       "| Real Madrid CF    | 843               | \n",
       "| Celtic            | 695               | \n",
       "| FC Bayern Munich  | 653               | \n",
       "| PSV               | 652               | \n",
       "| Ajax              | 647               | \n",
       "| FC Basel          | 619               | \n",
       "| Manchester City   | 606               | \n",
       "| Chelsea           | 583               | \n",
       "| Manchester United | 582               | \n",
       "\n",
       "\n"
      ],
      "text/plain": [
       "   team_long_name    total_goals\n",
       "1  FC Barcelona      849        \n",
       "2  Real Madrid CF    843        \n",
       "3  Celtic            695        \n",
       "4  FC Bayern Munich  653        \n",
       "5  PSV               652        \n",
       "6  Ajax              647        \n",
       "7  FC Basel          619        \n",
       "8  Manchester City   606        \n",
       "9  Chelsea           583        \n",
       "10 Manchester United 582        "
      ]
     },
     "metadata": {},
     "output_type": "display_data"
    }
   ],
   "source": [
    "#Which are the top 10 teams by number of scored goals?\n",
    "\n",
    "t <- na.omit(t[rev(order(t$total_goals)),])\n",
    "rownames(t) <- NULL\n",
    "head(t[,c(3,2)],10)"
   ]
  },
  {
   "cell_type": "code",
   "execution_count": null,
   "metadata": {
    "collapsed": true
   },
   "outputs": [],
   "source": []
  }
 ],
 "metadata": {
  "kernelspec": {
   "display_name": "R",
   "language": "R",
   "name": "ir"
  },
  "language_info": {
   "codemirror_mode": "r",
   "file_extension": ".r",
   "mimetype": "text/x-r-source",
   "name": "R",
   "pygments_lexer": "r",
   "version": "3.3.2"
  }
 },
 "nbformat": 4,
 "nbformat_minor": 2
}
