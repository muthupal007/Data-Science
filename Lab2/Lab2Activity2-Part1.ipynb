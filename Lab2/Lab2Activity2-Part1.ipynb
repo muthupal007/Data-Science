{
 "cells": [
  {
   "cell_type": "markdown",
   "metadata": {},
   "source": [
    "#### Importing libraries for processing of database"
   ]
  },
  {
   "cell_type": "code",
   "execution_count": 15,
   "metadata": {
    "collapsed": false
   },
   "outputs": [],
   "source": [
    "library(RSQLite)\n",
    "library(dplyr)"
   ]
  },
  {
   "cell_type": "code",
   "execution_count": 16,
   "metadata": {
    "collapsed": true
   },
   "outputs": [],
   "source": [
    "#### Reading the sqlite database using src_sqlite function"
   ]
  },
  {
   "cell_type": "code",
   "execution_count": 17,
   "metadata": {
    "collapsed": true
   },
   "outputs": [],
   "source": [
    "my_db <- src_sqlite('database.sqlite')"
   ]
  },
  {
   "cell_type": "markdown",
   "metadata": {},
   "source": [
    "#### Selecting required fields for player questions from player and player_attributes table. Taking sum of gk attributes for goalkeeper question. Grouping all the fields using for player_api_id"
   ]
  },
  {
   "cell_type": "code",
   "execution_count": 18,
   "metadata": {
    "collapsed": true
   },
   "outputs": [],
   "source": [
    "p <- tbl(my_db, sql(\"SELECT  Player.player_api_id, player_name, overall_rating, gk_diving + gk_handling + gk_kicking + gk_positioning + gk_reflexes as gk_attributes from Player LEFT JOIN Player_Attributes on Player.player_api_id = Player_Attributes.player_api_id group by Player.player_api_id\"))"
   ]
  },
  {
   "cell_type": "markdown",
   "metadata": {},
   "source": [
    "#### Selecting entire match table as it is required for both player and team files"
   ]
  },
  {
   "cell_type": "code",
   "execution_count": 19,
   "metadata": {
    "collapsed": true
   },
   "outputs": [],
   "source": [
    "mtable <- as.data.frame(tbl(my_db, sql(\"SELECT * from Match\")))"
   ]
  },
  {
   "cell_type": "markdown",
   "metadata": {},
   "source": [
    "#### Stripping the match table off home_player_(1-22) and away_player_(1-22) using column numbers (56-77), so that we get ids of players appearing in the matches. Grouping them using table to get appearances for each player_api_id and merging both to get playernames and apperances. Binding all these dataframes to make a common dataframe. Merging this data with our player data to create player database - pdb."
   ]
  },
  {
   "cell_type": "code",
   "execution_count": 20,
   "metadata": {
    "collapsed": true
   },
   "outputs": [],
   "source": [
    "m <- mtable[56:77]\n",
    "apps<-unlist(m)\n",
    "apps<-as.data.frame(table(apps))\n",
    "names(apps) <- c(\"player_api_id\", \"total_appearances\")\n",
    "pdb<-merge(x=apps,y=p,by=c(\"player_api_id\"), all = TRUE)"
   ]
  },
  {
   "cell_type": "markdown",
   "metadata": {},
   "source": [
    "#### Omitting NA values and selecting all home_player_(1-22) and away_player_(1-22) ids, each to a single variable alongwith league_id"
   ]
  },
  {
   "cell_type": "code",
   "execution_count": 21,
   "metadata": {
    "collapsed": true
   },
   "outputs": [],
   "source": [
    "r1 <- na.omit(select(mtable,player_api_id = home_player_1, league_id))\n",
    "r2 <- na.omit(select(mtable,player_api_id = home_player_2, league_id))\n",
    "r3 <- na.omit(select(mtable,player_api_id = home_player_3, league_id))\n",
    "r4 <- na.omit(select(mtable,player_api_id = home_player_4, league_id))\n",
    "r5 <- na.omit(select(mtable,player_api_id = home_player_5, league_id))\n",
    "r6 <- na.omit(select(mtable,player_api_id = home_player_6, league_id))\n",
    "r7 <- na.omit(select(mtable,player_api_id = home_player_7, league_id))\n",
    "r8 <- na.omit(select(mtable,player_api_id = home_player_8, league_id))\n",
    "r9 <- na.omit(select(mtable,player_api_id = home_player_9, league_id))\n",
    "r10 <- na.omit(select(mtable,player_api_id = home_player_10, league_id))\n",
    "r11 <- na.omit(select(mtable,player_api_id = home_player_11, league_id))\n"
   ]
  },
  {
   "cell_type": "code",
   "execution_count": 22,
   "metadata": {
    "collapsed": true
   },
   "outputs": [],
   "source": [
    "r12 <- na.omit(select(mtable,player_api_id = away_player_1, league_id))\n",
    "r13 <- na.omit(select(mtable,player_api_id = away_player_2, league_id))\n",
    "r14 <- na.omit(select(mtable,player_api_id = away_player_3, league_id))\n",
    "r15 <- na.omit(select(mtable,player_api_id = away_player_4, league_id))\n",
    "r16 <- na.omit(select(mtable,player_api_id = away_player_5, league_id))\n",
    "r17 <- na.omit(select(mtable,player_api_id = away_player_6, league_id))\n",
    "r18 <- na.omit(select(mtable,player_api_id = away_player_7, league_id))\n",
    "r19 <- na.omit(select(mtable,player_api_id = away_player_8, league_id))\n",
    "r20 <- na.omit(select(mtable,player_api_id = away_player_9, league_id))\n",
    "r21 <- na.omit(select(mtable,player_api_id = away_player_10, league_id))\n",
    "r22 <- na.omit(select(mtable,player_api_id = away_player_11, league_id))"
   ]
  },
  {
   "cell_type": "code",
   "execution_count": 23,
   "metadata": {
    "collapsed": true
   },
   "outputs": [],
   "source": [
    "rdf <- rbind(r1,r2,r3,r4,r5,r6,r7,r8,r9,r10,r11,r12,r13,r14,r15,r16,r17,r18,r19,r20,r21,r22)\n"
   ]
  },
  {
   "cell_type": "markdown",
   "metadata": {},
   "source": [
    "#### Using aggregate function to get unique league_id for each player_api_id and sum through the aggregate function to get no. of leagues a player has played in"
   ]
  },
  {
   "cell_type": "code",
   "execution_count": 24,
   "metadata": {
    "collapsed": true
   },
   "outputs": [],
   "source": [
    "rall <- aggregate(league_id ~ player_api_id, rdf, FUN = function(x) { length(unique(x))})"
   ]
  },
  {
   "cell_type": "markdown",
   "metadata": {},
   "source": [
    "#### Changing dataframe column names to required field names"
   ]
  },
  {
   "cell_type": "code",
   "execution_count": 25,
   "metadata": {
    "collapsed": false
   },
   "outputs": [],
   "source": [
    "names(rall) <- c(\"player_api_id\",\"leagues_played\")"
   ]
  },
  {
   "cell_type": "markdown",
   "metadata": {},
   "source": [
    "#### Merging this data with player database pdb and writing pdb into player.csv"
   ]
  },
  {
   "cell_type": "code",
   "execution_count": 26,
   "metadata": {
    "collapsed": true
   },
   "outputs": [],
   "source": [
    "pdb<-merge(x=rall,y=pdb,by=c(\"player_api_id\"), all = TRUE)"
   ]
  },
  {
   "cell_type": "code",
   "execution_count": 27,
   "metadata": {
    "collapsed": true
   },
   "outputs": [],
   "source": [
    "write.csv(pdb, file = \"player.csv\",row.names=FALSE)"
   ]
  },
  {
   "cell_type": "markdown",
   "metadata": {},
   "source": [
    "#### Selecting required fields for team questions from team and team_attributes table. Taking sum of attributes for attributes question. Grouping all the fields using for team_api_id"
   ]
  },
  {
   "cell_type": "code",
   "execution_count": 28,
   "metadata": {
    "collapsed": true
   },
   "outputs": [],
   "source": [
    "t <- tbl(my_db, sql(\"SELECT  Team.team_api_id, team_long_name, max(buildupplayspeed + buildupplaydribbling + buildupplaypassing) as buildup_ovr, max(chancecreationpassing + chancecreationcrossing + chancecreationshooting) as chance_ovr, max(defencepressure + defenceaggression + defenceteamwidth) as defence_ovr from Team LEFT JOIN Team_Attributes on Team.team_api_id = Team_Attributes.team_api_id group by Team.team_api_id\"))"
   ]
  },
  {
   "cell_type": "markdown",
   "metadata": {},
   "source": [
    "#### Stipping match table off home_team_id and home_team_goal (columns: 8,10) and away_team_id and away_team_goal (columns: 9,11). Grouping by group by function and in that summarising by getting sum of home and away goals and then binding them. And them merging this with our team data into team database tdb."
   ]
  },
  {
   "cell_type": "code",
   "execution_count": 29,
   "metadata": {
    "collapsed": true
   },
   "outputs": [],
   "source": [
    "hgoals<-mtable[,c(8,10)]\n",
    "hgoals<-hgoals%>%group_by(team_api_id=home_team_api_id)%>%summarise(total_goals=sum(home_team_goal))\n",
    "\n",
    "agoals<-mtable[,c(9,11)]\n",
    "agoals<-agoals%>%group_by(team_api_id=away_team_api_id)%>%summarise(total_goals=sum(away_team_goal))\n",
    "goals<-rbind(hgoals,agoals)\n",
    "goals<- goals%>%group_by(team_api_id)%>%summarise(total_goals = sum(total_goals))\n",
    "tdb<-merge(x=goals,y=t,by=c(\"team_api_id\"),all = TRUE)\n"
   ]
  },
  {
   "cell_type": "markdown",
   "metadata": {},
   "source": [
    "#### Write team database tdb into team.csv"
   ]
  },
  {
   "cell_type": "code",
   "execution_count": 30,
   "metadata": {
    "collapsed": true
   },
   "outputs": [],
   "source": [
    "write.csv(tdb, file = \"team.csv\",row.names=FALSE)"
   ]
  },
  {
   "cell_type": "code",
   "execution_count": null,
   "metadata": {
    "collapsed": true
   },
   "outputs": [],
   "source": []
  }
 ],
 "metadata": {
  "kernelspec": {
   "display_name": "R",
   "language": "R",
   "name": "ir"
  },
  "language_info": {
   "codemirror_mode": "r",
   "file_extension": ".r",
   "mimetype": "text/x-r-source",
   "name": "R",
   "pygments_lexer": "r",
   "version": "3.3.2"
  }
 },
 "nbformat": 4,
 "nbformat_minor": 2
}
