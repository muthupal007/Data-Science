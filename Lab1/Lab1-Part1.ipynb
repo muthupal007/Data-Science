{
 "cells": [
  {
   "cell_type": "code",
   "execution_count": 1,
   "metadata": {
    "collapsed": false
   },
   "outputs": [
    {
     "name": "stderr",
     "output_type": "stream",
     "text": [
      "Loading required package: ggplot2\n"
     ]
    },
    {
     "name": "stdout",
     "output_type": "stream",
     "text": [
      "[1] \"Using direct authentication\"\n"
     ]
    }
   ],
   "source": [
    "# Importing twitteR library and authentication with OAuth\n",
    "#Please enter your twitter keys\n",
    "\n",
    "library(twitteR)\n",
    "\n",
    "api_key <- ''\n",
    "api_secret <- ''\n",
    "access_token <- ''\n",
    "access_secret <- ''\n",
    "\n",
    "setup_twitter_oauth(api_key,api_secret,access_token,access_secret)"
   ]
  },
  {
   "cell_type": "code",
   "execution_count": 2,
   "metadata": {
    "collapsed": false
   },
   "outputs": [
    {
     "data": {
      "text/plain": [
       "[[1]]\n",
       "[1] \"essaytanks: RT @jkwasikye: Kati Olwo a ba #Arsenal banyivu cause they swallowed 5? Nga they were patient with the man after #mufc putting 8passes them!",
       "\"\n",
       "\n",
       "[[2]]\n",
       "[1] \"Mr_Drakes: RT @4231formation: New #Blog post: Board Out not Wenger Out! \\nhttps://t.co/bdmn7JdYeB \\n#Arsenal #Sport #Football #RT #Blogs #Afc #PremierLe",
       "\"\n",
       "\n",
       "[[3]]\n",
       "[1] \"jkwasikye: Kati Olwo a ba #Arsenal banyivu cause they swallowed 5? Nga they were patient with the man after #mufc putting 8passes them! #wengerout\"\n",
       "\n",
       "[[4]]\n",
       "[1] \"kellyroosve: Arsenal midfielder Francis Coquelin apologises for north London derby red card #ArsenalVsOlympiakos #Arsenal",
       " https://t.co/qSlA1yJHZ9\"\n",
       "\n",
       "[[5]]\n",
       "[1] \"uknewse: Arsenal star blasts team-mates for Premier League title failure #ArsenalVsOlympiakos #Arsenal #Arsenal #Arsenal",
       " https://t.co/qVthKlMmP8\"\n",
       "\n",
       "[[6]]\n",
       "[1] \"4231formation: New #Blog post: Board Out not Wenger Out! \\nhttps://t.co/bdmn7JdYeB \\n#Arsenal #Sport #Football #RT #Blogs #Afc",
       " https://t.co/YFxDOO6Xv5\"\n"
      ]
     },
     "metadata": {},
     "output_type": "display_data"
    }
   ],
   "source": [
    "# Searching Twitter\n",
    "tweets <- searchTwitter('#Arsenal',n=50)\n",
    "head(tweets)"
   ]
  },
  {
   "cell_type": "code",
   "execution_count": 3,
   "metadata": {
    "collapsed": false
   },
   "outputs": [
    {
     "data": {
      "text/plain": [
       "[[1]]\n",
       "[1] \"jkwasikye: Kati Olwo a ba #Arsenal banyivu cause they swallowed 5? Nga they were patient with the man after #mufc putting 8passes them! #wengerout\"\n",
       "\n",
       "[[2]]\n",
       "[1] \"kellyroosve: Arsenal midfielder Francis Coquelin apologises for north London derby red card #ArsenalVsOlympiakos #Arsenal",
       " https://t.co/qSlA1yJHZ9\"\n",
       "\n",
       "[[3]]\n",
       "[1] \"uknewse: Arsenal star blasts team-mates for Premier League title failure #ArsenalVsOlympiakos #Arsenal #Arsenal #Arsenal",
       " https://t.co/qVthKlMmP8\"\n",
       "\n",
       "[[4]]\n",
       "[1] \"4231formation: New #Blog post: Board Out not Wenger Out! \\nhttps://t.co/bdmn7JdYeB \\n#Arsenal #Sport #Football #RT #Blogs #Afc",
       " https://t.co/YFxDOO6Xv5\"\n",
       "\n",
       "[[5]]\n",
       "[1] \"FYS_Football: #Ozil #Sanchez #Arsenal #PremierLeague https://t.co/GkpKfs7Ubl!\"\n",
       "\n",
       "[[6]]\n",
       "[1] \"FreeBetsGlobal: #Coral #Bet £5 Get £20 - &gt;&gt; https://t.co/d6FdWNjkDK #Freebets #tips #arsenal #mufc #lfc #bookies #acca https://t.co/6fHii1uaxc\"\n"
      ]
     },
     "metadata": {},
     "output_type": "display_data"
    }
   ],
   "source": [
    "# Stripping Retweets\n",
    "head(strip_retweets(tweets, strip_manual=TRUE, strip_mt=TRUE))"
   ]
  },
  {
   "cell_type": "code",
   "execution_count": 9,
   "metadata": {
    "collapsed": false
   },
   "outputs": [
    {
     "data": {
      "text/html": [
       "'Proud Indian'"
      ],
      "text/latex": [
       "'Proud Indian'"
      ],
      "text/markdown": [
       "'Proud Indian'"
      ],
      "text/plain": [
       "[1] \"Proud Indian\""
      ]
     },
     "metadata": {},
     "output_type": "display_data"
    },
    {
     "data": {
      "text/html": [
       "14542543"
      ],
      "text/latex": [
       "14542543"
      ],
      "text/markdown": [
       "14542543"
      ],
      "text/plain": [
       "[1] 14542543"
      ]
     },
     "metadata": {},
     "output_type": "display_data"
    },
    {
     "data": {
      "text/plain": [
       "$`3312205428`\n",
       "[1] \"RajnathSingh_in\"\n",
       "\n",
       "$`18863815`\n",
       "[1] \"coldplay\"\n",
       "\n",
       "$`1633831880`\n",
       "[1] \"MarkKnopfler\"\n",
       "\n",
       "$`18847632`\n",
       "[1] \"U2\"\n"
      ]
     },
     "metadata": {},
     "output_type": "display_data"
    },
    {
     "data": {
      "text/plain": [
       "[[1]]\n",
       "[1] \"PMOIndia: Look at the life of @sachin_rt. He kept challenging himself and bettered his own records. That is what is inspiring: PM @narendramodi\"\n",
       "\n",
       "[[2]]\n",
       "[1] \"sachin_rt: Kolkata, I'm here at the @KolFullMarathon &amp; the atmosphere is electric! Congratulations for coming together &amp; makin",
       " https://t.co/r9Es0SCN3H\"\n",
       "\n",
       "[[3]]\n",
       "[1] \"RFYouthSports: .@TheJohnAbraham, @juniorbachchan, @sachin_rt &amp; Mrs. Nita Ambani are at the #RFYSFinals of the College Boys categor",
       " https://t.co/47QxQmJLO0\"\n",
       "\n",
       "[[4]]\n",
       "[1] \"Sachinist: #OnThisDay @sachin_rt played some beautiful straight drives till a blinder of a catch got him out :( #BestInningsOfSRT\"\n",
       "\n",
       "[[5]]\n",
       "[1] \"OmgSachin: A fine innings of 169 against the most fierce bowling attack of Klusener, Adams, Pollock, McMillan, Cronje! #OnThisDay @sachin_rt\"\n"
      ]
     },
     "metadata": {},
     "output_type": "display_data"
    }
   ],
   "source": [
    "# Looking at users\n",
    "user <- getUser('sachin_rt')\n",
    "user$getDescription()\n",
    "user$getFollowersCount()\n",
    "user$getFriends(n=5)\n",
    "user$getFavorites(n=5)"
   ]
  },
  {
   "cell_type": "code",
   "execution_count": 10,
   "metadata": {
    "collapsed": false
   },
   "outputs": [
    {
     "data": {
      "text/html": [
       "<table>\n",
       "<thead><tr><th scope=col>text</th><th scope=col>favorited</th><th scope=col>favoriteCount</th><th scope=col>replyToSN</th><th scope=col>created</th><th scope=col>truncated</th><th scope=col>replyToSID</th><th scope=col>id</th><th scope=col>replyToUID</th><th scope=col>statusSource</th><th scope=col>screenName</th><th scope=col>retweetCount</th><th scope=col>isRetweet</th><th scope=col>retweeted</th><th scope=col>longitude</th><th scope=col>latitude</th></tr></thead>\n",
       "<tbody>\n",
       "\t<tr><td><span style=white-space:pre-wrap>RT @jkwasikye: Kati Olwo a ba #Arsenal banyivu cause they swallowed 5? Nga they were patient with the man after #mufc putting 8passes them!…  </span></td><td>FALSE                                                                                                                                                                                 </td><td>0                                                                                                                                                                                     </td><td>NA                                                                                                                                                                                    </td><td>2017-02-18 05:38:20                                                                                                                                                                   </td><td>FALSE                                                                                                                                                                                 </td><td>NA                                                                                                                                                                                    </td><td>832826562898698240                                                                                                                                                                    </td><td>NA                                                                                                                                                                                    </td><td><span style=white-space:pre-wrap>&lt;a href=\"http://essaytanks.com\" rel=\"nofollow\"&gt;essaytanksscope&lt;/a&gt;                </span>                                                </td><td><span style=white-space:pre-wrap>essaytanks   </span>                                                                                                                                 </td><td>1                                                                                                                                                                                     </td><td> TRUE                                                                                                                                                                                 </td><td>FALSE                                                                                                                                                                                 </td><td>NA                                                                                                                                                                                    </td><td>NA                                                                                                                                                                                    </td></tr>\n",
       "\t<tr><td>RT @4231formation: New #Blog post: Board Out not Wenger Out! \n",
       "https://t.co/bdmn7JdYeB \n",
       "#Arsenal #Sport #Football #RT #Blogs #Afc #PremierLe…</td><td>FALSE                                                                                                                                         </td><td>0                                                                                                                                             </td><td>NA                                                                                                                                            </td><td>2017-02-18 05:37:33                                                                                                                           </td><td>FALSE                                                                                                                                         </td><td>NA                                                                                                                                            </td><td>832826367716782080                                                                                                                            </td><td>NA                                                                                                                                            </td><td><span style=white-space:pre-wrap>&lt;a href=\"http://www.hootsuite.com\" rel=\"nofollow\"&gt;Hootsuite&lt;/a&gt;                   </span>        </td><td><span style=white-space:pre-wrap>Mr_Drakes    </span>                                                                                         </td><td>1                                                                                                                                             </td><td> TRUE                                                                                                                                         </td><td>FALSE                                                                                                                                         </td><td>NA                                                                                                                                            </td><td>NA                                                                                                                                            </td></tr>\n",
       "\t<tr><td><span style=white-space:pre-wrap>Kati Olwo a ba #Arsenal banyivu cause they swallowed 5? Nga they were patient with the man after #mufc putting 8passes them! #wengerout       </span></td><td>FALSE                                                                                                                                                                                 </td><td>0                                                                                                                                                                                     </td><td>NA                                                                                                                                                                                    </td><td>2017-02-18 05:37:25                                                                                                                                                                   </td><td>FALSE                                                                                                                                                                                 </td><td>NA                                                                                                                                                                                    </td><td>832826333839372289                                                                                                                                                                    </td><td>NA                                                                                                                                                                                    </td><td>&lt;a href=\"http://twitter.com/download/iphone\" rel=\"nofollow\"&gt;Twitter for iPhone&lt;/a&gt;                                                                                        </td><td><span style=white-space:pre-wrap>jkwasikye    </span>                                                                                                                                 </td><td>1                                                                                                                                                                                     </td><td>FALSE                                                                                                                                                                                 </td><td>FALSE                                                                                                                                                                                 </td><td>NA                                                                                                                                                                                    </td><td>NA                                                                                                                                                                                    </td></tr>\n",
       "\t<tr><td><span style=white-space:pre-wrap>Arsenal midfielder Francis Coquelin apologises for north London derby red card #ArsenalVsOlympiakos #Arsenal… https://t.co/qSlA1yJHZ9         </span></td><td>FALSE                                                                                                                                                                                 </td><td>0                                                                                                                                                                                     </td><td>NA                                                                                                                                                                                    </td><td>2017-02-18 05:37:13                                                                                                                                                                   </td><td>FALSE                                                                                                                                                                                 </td><td>NA                                                                                                                                                                                    </td><td>832826283142766593                                                                                                                                                                    </td><td>NA                                                                                                                                                                                    </td><td><span style=white-space:pre-wrap>&lt;a href=\"https://dlvrit.com/\" rel=\"nofollow\"&gt;dlvr.it&lt;/a&gt;                          </span>                                                </td><td><span style=white-space:pre-wrap>kellyroosve  </span>                                                                                                                                 </td><td>0                                                                                                                                                                                     </td><td>FALSE                                                                                                                                                                                 </td><td>FALSE                                                                                                                                                                                 </td><td>NA                                                                                                                                                                                    </td><td>NA                                                                                                                                                                                    </td></tr>\n",
       "\t<tr><td><span style=white-space:pre-wrap>Arsenal star blasts team-mates for Premier League title failure #ArsenalVsOlympiakos #Arsenal #Arsenal #Arsenal… https://t.co/qVthKlMmP8      </span></td><td>FALSE                                                                                                                                                                                 </td><td>0                                                                                                                                                                                     </td><td>NA                                                                                                                                                                                    </td><td>2017-02-18 05:37:11                                                                                                                                                                   </td><td> TRUE                                                                                                                                                                                 </td><td>NA                                                                                                                                                                                    </td><td>832826273764290561                                                                                                                                                                    </td><td>NA                                                                                                                                                                                    </td><td><span style=white-space:pre-wrap>&lt;a href=\"https://dlvrit.com/\" rel=\"nofollow\"&gt;dlvr.it&lt;/a&gt;                          </span>                                                </td><td><span style=white-space:pre-wrap>uknewse      </span>                                                                                                                                 </td><td>0                                                                                                                                                                                     </td><td>FALSE                                                                                                                                                                                 </td><td>FALSE                                                                                                                                                                                 </td><td>NA                                                                                                                                                                                    </td><td>NA                                                                                                                                                                                    </td></tr>\n",
       "\t<tr><td><span style=white-space:pre-wrap>New #Blog post: Board Out not Wenger Out! \n",
       "https://t.co/bdmn7JdYeB \n",
       "#Arsenal #Sport #Football #RT #Blogs #Afc… https://t.co/YFxDOO6Xv5      </span></td><td>FALSE                                                                                                                                                                                 </td><td>0                                                                                                                                                                                     </td><td>NA                                                                                                                                                                                    </td><td>2017-02-18 05:36:12                                                                                                                                                                   </td><td> TRUE                                                                                                                                                                                 </td><td>NA                                                                                                                                                                                    </td><td>832826025805488130                                                                                                                                                                    </td><td>NA                                                                                                                                                                                    </td><td><span style=white-space:pre-wrap>&lt;a href=\"http://www.hootsuite.com\" rel=\"nofollow\"&gt;Hootsuite&lt;/a&gt;                   </span>                                                </td><td>4231formation                                                                                                                                                                         </td><td>1                                                                                                                                                                                     </td><td>FALSE                                                                                                                                                                                 </td><td>FALSE                                                                                                                                                                                 </td><td>NA                                                                                                                                                                                    </td><td>NA                                                                                                                                                                                    </td></tr>\n",
       "</tbody>\n",
       "</table>\n"
      ],
      "text/latex": [
       "\\begin{tabular}{r|llllllllllllllll}\n",
       " text & favorited & favoriteCount & replyToSN & created & truncated & replyToSID & id & replyToUID & statusSource & screenName & retweetCount & isRetweet & retweeted & longitude & latitude\\\\\n",
       "\\hline\n",
       "\t RT @jkwasikye: Kati Olwo a ba \\#Arsenal banyivu cause they swallowed 5? Nga they were patient with the man after \\#mufc putting 8passes them!…   & FALSE                                                                                                                                              & 0                                                                                                                                                  & NA                                                                                                                                                 & 2017-02-18 05:38:20                                                                                                                                & FALSE                                                                                                                                              & NA                                                                                                                                                 & 832826562898698240                                                                                                                                 & NA                                                                                                                                                 & <a href=\"http://essaytanks.com\" rel=\"nofollow\">essaytanksscope</a>                                                                                 & essaytanks                                                                                                                                         & 1                                                                                                                                                  &  TRUE                                                                                                                                              & FALSE                                                                                                                                              & NA                                                                                                                                                 & NA                                                                                                                                                \\\\\n",
       "\t RT @4231formation: New \\#Blog post: Board Out not Wenger Out! \n",
       "https://t.co/bdmn7JdYeB \n",
       "\\#Arsenal \\#Sport \\#Football \\#RT \\#Blogs \\#Afc \\#PremierLe… & FALSE                                                                                                                                                          & 0                                                                                                                                                              & NA                                                                                                                                                             & 2017-02-18 05:37:33                                                                                                                                            & FALSE                                                                                                                                                          & NA                                                                                                                                                             & 832826367716782080                                                                                                                                             & NA                                                                                                                                                             & <a href=\"http://www.hootsuite.com\" rel=\"nofollow\">Hootsuite</a>                                                                                                & Mr\\_Drakes                                                                                                                                                    & 1                                                                                                                                                              &  TRUE                                                                                                                                                          & FALSE                                                                                                                                                          & NA                                                                                                                                                             & NA                                                                                                                                                            \\\\\n",
       "\t Kati Olwo a ba \\#Arsenal banyivu cause they swallowed 5? Nga they were patient with the man after \\#mufc putting 8passes them! \\#wengerout        & FALSE                                                                                                                                                & 0                                                                                                                                                    & NA                                                                                                                                                   & 2017-02-18 05:37:25                                                                                                                                  & FALSE                                                                                                                                                & NA                                                                                                                                                   & 832826333839372289                                                                                                                                   & NA                                                                                                                                                   & <a href=\"http://twitter.com/download/iphone\" rel=\"nofollow\">Twitter for iPhone</a>                                                                   & jkwasikye                                                                                                                                            & 1                                                                                                                                                    & FALSE                                                                                                                                                & FALSE                                                                                                                                                & NA                                                                                                                                                   & NA                                                                                                                                                  \\\\\n",
       "\t Arsenal midfielder Francis Coquelin apologises for north London derby red card \\#ArsenalVsOlympiakos \\#Arsenal… https://t.co/qSlA1yJHZ9          & FALSE                                                                                                                                              & 0                                                                                                                                                  & NA                                                                                                                                                 & 2017-02-18 05:37:13                                                                                                                                & FALSE                                                                                                                                              & NA                                                                                                                                                 & 832826283142766593                                                                                                                                 & NA                                                                                                                                                 & <a href=\"https://dlvrit.com/\" rel=\"nofollow\">dlvr.it</a>                                                                                           & kellyroosve                                                                                                                                        & 0                                                                                                                                                  & FALSE                                                                                                                                              & FALSE                                                                                                                                              & NA                                                                                                                                                 & NA                                                                                                                                                \\\\\n",
       "\t Arsenal star blasts team-mates for Premier League title failure \\#ArsenalVsOlympiakos \\#Arsenal \\#Arsenal \\#Arsenal… https://t.co/qVthKlMmP8       & FALSE                                                                                                                                                  & 0                                                                                                                                                      & NA                                                                                                                                                     & 2017-02-18 05:37:11                                                                                                                                    &  TRUE                                                                                                                                                  & NA                                                                                                                                                     & 832826273764290561                                                                                                                                     & NA                                                                                                                                                     & <a href=\"https://dlvrit.com/\" rel=\"nofollow\">dlvr.it</a>                                                                                               & uknewse                                                                                                                                                & 0                                                                                                                                                      & FALSE                                                                                                                                                  & FALSE                                                                                                                                                  & NA                                                                                                                                                     & NA                                                                                                                                                    \\\\\n",
       "\t New \\#Blog post: Board Out not Wenger Out! \n",
       "https://t.co/bdmn7JdYeB \n",
       "\\#Arsenal \\#Sport \\#Football \\#RT \\#Blogs \\#Afc… https://t.co/YFxDOO6Xv5       & FALSE                                                                                                                                                        & 0                                                                                                                                                            & NA                                                                                                                                                           & 2017-02-18 05:36:12                                                                                                                                          &  TRUE                                                                                                                                                        & NA                                                                                                                                                           & 832826025805488130                                                                                                                                           & NA                                                                                                                                                           & <a href=\"http://www.hootsuite.com\" rel=\"nofollow\">Hootsuite</a>                                                                                              & 4231formation                                                                                                                                                & 1                                                                                                                                                            & FALSE                                                                                                                                                        & FALSE                                                                                                                                                        & NA                                                                                                                                                           & NA                                                                                                                                                          \\\\\n",
       "\\end{tabular}\n"
      ],
      "text/markdown": [
       "\n",
       "text | favorited | favoriteCount | replyToSN | created | truncated | replyToSID | id | replyToUID | statusSource | screenName | retweetCount | isRetweet | retweeted | longitude | latitude | \n",
       "|---|---|---|---|---|---|\n",
       "| RT @jkwasikye: Kati Olwo a ba #Arsenal banyivu cause they swallowed 5? Nga they were patient with the man after #mufc putting 8passes them!…   | FALSE                                                                                                                                          | 0                                                                                                                                              | NA                                                                                                                                             | 2017-02-18 05:38:20                                                                                                                            | FALSE                                                                                                                                          | NA                                                                                                                                             | 832826562898698240                                                                                                                             | NA                                                                                                                                             | <a href=\"http://essaytanks.com\" rel=\"nofollow\">essaytanksscope</a>                                                                             | essaytanks                                                                                                                                     | 1                                                                                                                                              |  TRUE                                                                                                                                          | FALSE                                                                                                                                          | NA                                                                                                                                             | NA                                                                                                                                             | \n",
       "| RT @4231formation: New #Blog post: Board Out not Wenger Out! \n",
       "https://t.co/bdmn7JdYeB \n",
       "#Arsenal #Sport #Football #RT #Blogs #Afc #PremierLe… | FALSE                                                                                                                                          | 0                                                                                                                                              | NA                                                                                                                                             | 2017-02-18 05:37:33                                                                                                                            | FALSE                                                                                                                                          | NA                                                                                                                                             | 832826367716782080                                                                                                                             | NA                                                                                                                                             | <a href=\"http://www.hootsuite.com\" rel=\"nofollow\">Hootsuite</a>                                                                                | Mr_Drakes                                                                                                                                      | 1                                                                                                                                              |  TRUE                                                                                                                                          | FALSE                                                                                                                                          | NA                                                                                                                                             | NA                                                                                                                                             | \n",
       "| Kati Olwo a ba #Arsenal banyivu cause they swallowed 5? Nga they were patient with the man after #mufc putting 8passes them! #wengerout        | FALSE                                                                                                                                          | 0                                                                                                                                              | NA                                                                                                                                             | 2017-02-18 05:37:25                                                                                                                            | FALSE                                                                                                                                          | NA                                                                                                                                             | 832826333839372289                                                                                                                             | NA                                                                                                                                             | <a href=\"http://twitter.com/download/iphone\" rel=\"nofollow\">Twitter for iPhone</a>                                                             | jkwasikye                                                                                                                                      | 1                                                                                                                                              | FALSE                                                                                                                                          | FALSE                                                                                                                                          | NA                                                                                                                                             | NA                                                                                                                                             | \n",
       "| Arsenal midfielder Francis Coquelin apologises for north London derby red card #ArsenalVsOlympiakos #Arsenal… https://t.co/qSlA1yJHZ9          | FALSE                                                                                                                                          | 0                                                                                                                                              | NA                                                                                                                                             | 2017-02-18 05:37:13                                                                                                                            | FALSE                                                                                                                                          | NA                                                                                                                                             | 832826283142766593                                                                                                                             | NA                                                                                                                                             | <a href=\"https://dlvrit.com/\" rel=\"nofollow\">dlvr.it</a>                                                                                       | kellyroosve                                                                                                                                    | 0                                                                                                                                              | FALSE                                                                                                                                          | FALSE                                                                                                                                          | NA                                                                                                                                             | NA                                                                                                                                             | \n",
       "| Arsenal star blasts team-mates for Premier League title failure #ArsenalVsOlympiakos #Arsenal #Arsenal #Arsenal… https://t.co/qVthKlMmP8       | FALSE                                                                                                                                          | 0                                                                                                                                              | NA                                                                                                                                             | 2017-02-18 05:37:11                                                                                                                            |  TRUE                                                                                                                                          | NA                                                                                                                                             | 832826273764290561                                                                                                                             | NA                                                                                                                                             | <a href=\"https://dlvrit.com/\" rel=\"nofollow\">dlvr.it</a>                                                                                       | uknewse                                                                                                                                        | 0                                                                                                                                              | FALSE                                                                                                                                          | FALSE                                                                                                                                          | NA                                                                                                                                             | NA                                                                                                                                             | \n",
       "| New #Blog post: Board Out not Wenger Out! \n",
       "https://t.co/bdmn7JdYeB \n",
       "#Arsenal #Sport #Football #RT #Blogs #Afc… https://t.co/YFxDOO6Xv5       | FALSE                                                                                                                                          | 0                                                                                                                                              | NA                                                                                                                                             | 2017-02-18 05:36:12                                                                                                                            |  TRUE                                                                                                                                          | NA                                                                                                                                             | 832826025805488130                                                                                                                             | NA                                                                                                                                             | <a href=\"http://www.hootsuite.com\" rel=\"nofollow\">Hootsuite</a>                                                                                | 4231formation                                                                                                                                  | 1                                                                                                                                              | FALSE                                                                                                                                          | FALSE                                                                                                                                          | NA                                                                                                                                             | NA                                                                                                                                             | \n",
       "\n",
       "\n"
      ],
      "text/plain": [
       "  text                                                                                                                                          \n",
       "1 RT @jkwasikye: Kati Olwo a ba #Arsenal banyivu cause they swallowed 5? Nga they were patient with the man after #mufc putting 8passes them!",
       "  \n",
       "2 RT @4231formation: New #Blog post: Board Out not Wenger Out! \\nhttps://t.co/bdmn7JdYeB \\n#Arsenal #Sport #Football #RT #Blogs #Afc #PremierLe",
       "\n",
       "3 Kati Olwo a ba #Arsenal banyivu cause they swallowed 5? Nga they were patient with the man after #mufc putting 8passes them! #wengerout       \n",
       "4 Arsenal midfielder Francis Coquelin apologises for north London derby red card #ArsenalVsOlympiakos #Arsenal",
       " https://t.co/qSlA1yJHZ9         \n",
       "5 Arsenal star blasts team-mates for Premier League title failure #ArsenalVsOlympiakos #Arsenal #Arsenal #Arsenal",
       " https://t.co/qVthKlMmP8      \n",
       "6 New #Blog post: Board Out not Wenger Out! \\nhttps://t.co/bdmn7JdYeB \\n#Arsenal #Sport #Football #RT #Blogs #Afc",
       " https://t.co/YFxDOO6Xv5      \n",
       "  favorited favoriteCount replyToSN created             truncated replyToSID\n",
       "1 FALSE     0             NA        2017-02-18 05:38:20 FALSE     NA        \n",
       "2 FALSE     0             NA        2017-02-18 05:37:33 FALSE     NA        \n",
       "3 FALSE     0             NA        2017-02-18 05:37:25 FALSE     NA        \n",
       "4 FALSE     0             NA        2017-02-18 05:37:13 FALSE     NA        \n",
       "5 FALSE     0             NA        2017-02-18 05:37:11  TRUE     NA        \n",
       "6 FALSE     0             NA        2017-02-18 05:36:12  TRUE     NA        \n",
       "  id                 replyToUID\n",
       "1 832826562898698240 NA        \n",
       "2 832826367716782080 NA        \n",
       "3 832826333839372289 NA        \n",
       "4 832826283142766593 NA        \n",
       "5 832826273764290561 NA        \n",
       "6 832826025805488130 NA        \n",
       "  statusSource                                                                      \n",
       "1 <a href=\"http://essaytanks.com\" rel=\"nofollow\">essaytanksscope</a>                \n",
       "2 <a href=\"http://www.hootsuite.com\" rel=\"nofollow\">Hootsuite</a>                   \n",
       "3 <a href=\"http://twitter.com/download/iphone\" rel=\"nofollow\">Twitter for iPhone</a>\n",
       "4 <a href=\"https://dlvrit.com/\" rel=\"nofollow\">dlvr.it</a>                          \n",
       "5 <a href=\"https://dlvrit.com/\" rel=\"nofollow\">dlvr.it</a>                          \n",
       "6 <a href=\"http://www.hootsuite.com\" rel=\"nofollow\">Hootsuite</a>                   \n",
       "  screenName    retweetCount isRetweet retweeted longitude latitude\n",
       "1 essaytanks    1             TRUE     FALSE     NA        NA      \n",
       "2 Mr_Drakes     1             TRUE     FALSE     NA        NA      \n",
       "3 jkwasikye     1            FALSE     FALSE     NA        NA      \n",
       "4 kellyroosve   0            FALSE     FALSE     NA        NA      \n",
       "5 uknewse       0            FALSE     FALSE     NA        NA      \n",
       "6 4231formation 1            FALSE     FALSE     NA        NA      "
      ]
     },
     "metadata": {},
     "output_type": "display_data"
    }
   ],
   "source": [
    "# Conversion to data.frames\n",
    "df <- twListToDF(tweets)\n",
    "head(df)"
   ]
  },
  {
   "cell_type": "code",
   "execution_count": 23,
   "metadata": {
    "collapsed": false
   },
   "outputs": [
    {
     "data": {
      "text/html": [
       "TRUE"
      ],
      "text/latex": [
       "TRUE"
      ],
      "text/markdown": [
       "TRUE"
      ],
      "text/plain": [
       "[1] TRUE"
      ]
     },
     "metadata": {},
     "output_type": "display_data"
    },
    {
     "data": {
      "text/plain": [
       "[[1]]\n",
       "[1] \"essaytanks: RT @jkwasikye: Kati Olwo a ba #Arsenal banyivu cause they swallowed 5? Nga they were patient with the man after #mufc putting 8passes them!",
       "\"\n",
       "\n",
       "[[2]]\n",
       "[1] \"Mr_Drakes: RT @4231formation: New #Blog post: Board Out not Wenger Out! \\nhttps://t.co/bdmn7JdYeB \\n#Arsenal #Sport #Football #RT #Blogs #Afc #PremierLe",
       "\"\n",
       "\n",
       "[[3]]\n",
       "[1] \"jkwasikye: Kati Olwo a ba #Arsenal banyivu cause they swallowed 5? Nga they were patient with the man after #mufc putting 8passes them! #wengerout\"\n",
       "\n",
       "[[4]]\n",
       "[1] \"kellyroosve: Arsenal midfielder Francis Coquelin apologises for north London derby red card #ArsenalVsOlympiakos #Arsenal",
       " https://t.co/qSlA1yJHZ9\"\n",
       "\n",
       "[[5]]\n",
       "[1] \"uknewse: Arsenal star blasts team-mates for Premier League title failure #ArsenalVsOlympiakos #Arsenal #Arsenal #Arsenal",
       " https://t.co/qVthKlMmP8\"\n",
       "\n",
       "[[6]]\n",
       "[1] \"4231formation: New #Blog post: Board Out not Wenger Out! \\nhttps://t.co/bdmn7JdYeB \\n#Arsenal #Sport #Football #RT #Blogs #Afc",
       " https://t.co/YFxDOO6Xv5\"\n"
      ]
     },
     "metadata": {},
     "output_type": "display_data"
    }
   ],
   "source": [
    "# Database Persistence\n",
    "library(RSQLite)\n",
    "sql_lite_file = tempfile()\n",
    "register_sqlite_backend(sql_lite_file)\n",
    "store_tweets_db(tweets)\n",
    "from_db = load_tweets_db()\n",
    "head(from_db)"
   ]
  },
  {
   "cell_type": "code",
   "execution_count": 28,
   "metadata": {
    "collapsed": false
   },
   "outputs": [
    {
     "data": {
      "text/plain": [
       "[[1]]\n",
       "[1] \"sachin_rt: When it comes to unorthodox shots, very few people can ace it like @ABdeVilliers17. Happy birthday Mr. 360°, have a splendid one!\"\n",
       "\n",
       "[[2]]\n",
       "[1] \"sachin_rt: With little Hinaya Heer! She's a bundle of joy <ed><U+00A0><U+00BD><ed><U+00B8><U+0087> @harbhajan_singh https://t.co/SGmesgoV8I\"\n",
       "\n",
       "[[3]]\n",
       "[1] \"sachin_rt: The answer to the question that everyone's asking me is here. Mark your calendars and save the date. @SachinTheFilm",
       " https://t.co/ejHCKmN1wG\"\n",
       "\n",
       "[[4]]\n",
       "[1] \"sachin_rt: Nothing is impossible &amp; Team India proved it once again by winning the #BlindWorldT20! Fantastic!! https://t.co/OkEJf2W4Nd\"\n",
       "\n",
       "[[5]]\n",
       "[1] \"sachin_rt: Sun, snow and shades - Perfect set-up for an amazing vacation. https://t.co/Fkk93nipZH\"\n"
      ]
     },
     "metadata": {},
     "output_type": "display_data"
    },
    {
     "data": {
      "text/plain": [
       "[[1]]\n",
       "[1] \"ndtv: Live updates: E Palanisamy moves vote of confidence for motion in #TNAssembly #OPSvsEPS https://t.co/88Gt8F2NS8 https://t.co/Pf4BApGSGX\"\n",
       "\n",
       "[[2]]\n",
       "[1] \"Squawka: Football birthdays:\\n\\nNathan Aké (22)\\nIdriss Kameni (33)\\nJermaine Jenas (34)\\nGary Neville (42)\\nClaude Makélélé (44)",
       " https://t.co/NVbjYkacw7\"\n",
       "\n",
       "[[3]]\n",
       "[1] \"ndtv: #OPSvsEPS | Division voting begins, in 6 blocks. First block raises hands in favour of #EPS\\n\\nLive coverage: https://t.co/hMlRpgak2y\"\n",
       "\n",
       "[[4]]\n",
       "[1] \"sardesairajdeep: <ed><U+00A0><U+00BD><ed><U+00B8><U+008B><ed><U+00A0><U+00BD><ed><U+00B8><U+008B> https://t.co/NpphpgRz2n\"\n",
       "\n",
       "[[5]]\n",
       "[1] \"ndtv: All doors shut in #TNAssembly premises for #floortest \\n\\nLive coverage: https://t.co/hMlRpgak2y https://t.co/vIa9LZz04d\"\n"
      ]
     },
     "metadata": {},
     "output_type": "display_data"
    }
   ],
   "source": [
    "# Timelines\n",
    "sachin_tweets <- userTimeline('sachin_rt')\n",
    "sachin_tweets[1:5]\n",
    "\n",
    "homeTimeline(n=5) # My home timeline"
   ]
  },
  {
   "cell_type": "code",
   "execution_count": 36,
   "metadata": {
    "collapsed": false
   },
   "outputs": [
    {
     "data": {
      "text/html": [
       "<table>\n",
       "<thead><tr><th scope=col>name</th><th scope=col>country</th><th scope=col>woeid</th></tr></thead>\n",
       "<tbody>\n",
       "\t<tr><td>Worldwide</td><td>         </td><td>1        </td></tr>\n",
       "\t<tr><td>Winnipeg </td><td>Canada   </td><td>2972     </td></tr>\n",
       "\t<tr><td>Ottawa   </td><td>Canada   </td><td>3369     </td></tr>\n",
       "\t<tr><td>Quebec   </td><td>Canada   </td><td>3444     </td></tr>\n",
       "\t<tr><td>Montreal </td><td>Canada   </td><td>3534     </td></tr>\n",
       "\t<tr><td>Toronto  </td><td>Canada   </td><td>4118     </td></tr>\n",
       "</tbody>\n",
       "</table>\n"
      ],
      "text/latex": [
       "\\begin{tabular}{r|lll}\n",
       " name & country & woeid\\\\\n",
       "\\hline\n",
       "\t Worldwide &           & 1        \\\\\n",
       "\t Winnipeg  & Canada    & 2972     \\\\\n",
       "\t Ottawa    & Canada    & 3369     \\\\\n",
       "\t Quebec    & Canada    & 3444     \\\\\n",
       "\t Montreal  & Canada    & 3534     \\\\\n",
       "\t Toronto   & Canada    & 4118     \\\\\n",
       "\\end{tabular}\n"
      ],
      "text/markdown": [
       "\n",
       "name | country | woeid | \n",
       "|---|---|---|---|---|---|\n",
       "| Worldwide |           | 1         | \n",
       "| Winnipeg  | Canada    | 2972      | \n",
       "| Ottawa    | Canada    | 3369      | \n",
       "| Quebec    | Canada    | 3444      | \n",
       "| Montreal  | Canada    | 3534      | \n",
       "| Toronto   | Canada    | 4118      | \n",
       "\n",
       "\n"
      ],
      "text/plain": [
       "  name      country woeid\n",
       "1 Worldwide         1    \n",
       "2 Winnipeg  Canada  2972 \n",
       "3 Ottawa    Canada  3369 \n",
       "4 Quebec    Canada  3444 \n",
       "5 Montreal  Canada  3534 \n",
       "6 Toronto   Canada  4118 "
      ]
     },
     "metadata": {},
     "output_type": "display_data"
    },
    {
     "data": {
      "text/html": [
       "<table>\n",
       "<thead><tr><th scope=col>name</th><th scope=col>country</th><th scope=col>woeid</th></tr></thead>\n",
       "<tbody>\n",
       "\t<tr><td>Providence   </td><td>United States</td><td>2477058      </td></tr>\n",
       "</tbody>\n",
       "</table>\n"
      ],
      "text/latex": [
       "\\begin{tabular}{r|lll}\n",
       " name & country & woeid\\\\\n",
       "\\hline\n",
       "\t Providence    & United States & 2477058      \\\\\n",
       "\\end{tabular}\n"
      ],
      "text/markdown": [
       "\n",
       "name | country | woeid | \n",
       "|---|\n",
       "| Providence    | United States | 2477058       | \n",
       "\n",
       "\n"
      ],
      "text/plain": [
       "  name       country       woeid  \n",
       "1 Providence United States 2477058"
      ]
     },
     "metadata": {},
     "output_type": "display_data"
    },
    {
     "data": {
      "text/html": [
       "<table>\n",
       "<thead><tr><th scope=col>name</th><th scope=col>url</th><th scope=col>query</th><th scope=col>woeid</th></tr></thead>\n",
       "<tbody>\n",
       "\t<tr><td>#GoFriars                                           </td><td>http://twitter.com/search?q=%23GoFriars             </td><td>%23GoFriars                                         </td><td>2477058                                             </td></tr>\n",
       "\t<tr><td>#TrumpRally                                         </td><td>http://twitter.com/search?q=%23TrumpRally           </td><td>%23TrumpRally                                       </td><td>2477058                                             </td></tr>\n",
       "\t<tr><td>#NationalDrinkWineDay                               </td><td>http://twitter.com/search?q=%23NationalDrinkWineDay </td><td>%23NationalDrinkWineDay                             </td><td>2477058                                             </td></tr>\n",
       "\t<tr><td>Clyde Stubblefield                                  </td><td>http://twitter.com/search?q=%22Clyde+Stubblefield%22</td><td>%22Clyde+Stubblefield%22                            </td><td>2477058                                             </td></tr>\n",
       "\t<tr><td>Eron Harris                                         </td><td>http://twitter.com/search?q=%22Eron+Harris%22       </td><td>%22Eron+Harris%22                                   </td><td>2477058                                             </td></tr>\n",
       "\t<tr><td>#IGotTaxedFor                                       </td><td>http://twitter.com/search?q=%23IGotTaxedFor         </td><td>%23IGotTaxedFor                                     </td><td>2477058                                             </td></tr>\n",
       "</tbody>\n",
       "</table>\n"
      ],
      "text/latex": [
       "\\begin{tabular}{r|llll}\n",
       " name & url & query & woeid\\\\\n",
       "\\hline\n",
       "\t \\#GoFriars                                            & http://twitter.com/search?q=\\%23GoFriars              & \\%23GoFriars                                          & 2477058                                               \\\\\n",
       "\t \\#TrumpRally                                          & http://twitter.com/search?q=\\%23TrumpRally            & \\%23TrumpRally                                        & 2477058                                               \\\\\n",
       "\t \\#NationalDrinkWineDay                                & http://twitter.com/search?q=\\%23NationalDrinkWineDay  & \\%23NationalDrinkWineDay                              & 2477058                                               \\\\\n",
       "\t Clyde Stubblefield                                       & http://twitter.com/search?q=\\%22Clyde+Stubblefield\\%22 & \\%22Clyde+Stubblefield\\%22                             & 2477058                                                 \\\\\n",
       "\t Eron Harris                                              & http://twitter.com/search?q=\\%22Eron+Harris\\%22        & \\%22Eron+Harris\\%22                                    & 2477058                                                 \\\\\n",
       "\t \\#IGotTaxedFor                                        & http://twitter.com/search?q=\\%23IGotTaxedFor          & \\%23IGotTaxedFor                                      & 2477058                                               \\\\\n",
       "\\end{tabular}\n"
      ],
      "text/markdown": [
       "\n",
       "name | url | query | woeid | \n",
       "|---|---|---|---|---|---|\n",
       "| #GoFriars                                            | http://twitter.com/search?q=%23GoFriars              | %23GoFriars                                          | 2477058                                              | \n",
       "| #TrumpRally                                          | http://twitter.com/search?q=%23TrumpRally            | %23TrumpRally                                        | 2477058                                              | \n",
       "| #NationalDrinkWineDay                                | http://twitter.com/search?q=%23NationalDrinkWineDay  | %23NationalDrinkWineDay                              | 2477058                                              | \n",
       "| Clyde Stubblefield                                   | http://twitter.com/search?q=%22Clyde+Stubblefield%22 | %22Clyde+Stubblefield%22                             | 2477058                                              | \n",
       "| Eron Harris                                          | http://twitter.com/search?q=%22Eron+Harris%22        | %22Eron+Harris%22                                    | 2477058                                              | \n",
       "| #IGotTaxedFor                                        | http://twitter.com/search?q=%23IGotTaxedFor          | %23IGotTaxedFor                                      | 2477058                                              | \n",
       "\n",
       "\n"
      ],
      "text/plain": [
       "  name                  url                                                 \n",
       "1 #GoFriars             http://twitter.com/search?q=%23GoFriars             \n",
       "2 #TrumpRally           http://twitter.com/search?q=%23TrumpRally           \n",
       "3 #NationalDrinkWineDay http://twitter.com/search?q=%23NationalDrinkWineDay \n",
       "4 Clyde Stubblefield    http://twitter.com/search?q=%22Clyde+Stubblefield%22\n",
       "5 Eron Harris           http://twitter.com/search?q=%22Eron+Harris%22       \n",
       "6 #IGotTaxedFor         http://twitter.com/search?q=%23IGotTaxedFor         \n",
       "  query                    woeid  \n",
       "1 %23GoFriars              2477058\n",
       "2 %23TrumpRally            2477058\n",
       "3 %23NationalDrinkWineDay  2477058\n",
       "4 %22Clyde+Stubblefield%22 2477058\n",
       "5 %22Eron+Harris%22        2477058\n",
       "6 %23IGotTaxedFor          2477058"
      ]
     },
     "metadata": {},
     "output_type": "display_data"
    }
   ],
   "source": [
    "# Trends\n",
    "avail_trends = availableTrendLocations()\n",
    "head(avail_trends)\n",
    "\n",
    "close_trends = closestTrendLocations(32.8, -61.1)\n",
    "head(close_trends)\n",
    "\n",
    "trends = getTrends(2477058)\n",
    "head(trends)"
   ]
  },
  {
   "cell_type": "code",
   "execution_count": 30,
   "metadata": {
    "collapsed": false
   },
   "outputs": [
    {
     "data": {
      "image/png": "[encoded data removed]",
      "text/plain": [
       "plot without title"
      ]
     },
     "metadata": {},
     "output_type": "display_data"
    }
   ],
   "source": [
    "# Example\n",
    "\n",
    "r_tweets <- searchTwitter(\"#Arsenal\", n=300)\n",
    "sources <- sapply(r_tweets, function(x) x$getStatusSource())\n",
    "sources <- gsub(\"</a>\", \"\", sources)\n",
    "sources <- strsplit(sources, \">\")\n",
    "sources <- sapply(sources, function(x) ifelse(length(x) > 1, x[2], x[1]))\n",
    "source_table = table(sources)\n",
    "pie(source_table[source_table > 10])"
   ]
  }
 ],
 "metadata": {
  "kernelspec": {
   "display_name": "R",
   "language": "R",
   "name": "ir"
  },
  "language_info": {
   "codemirror_mode": "r",
   "file_extension": ".r",
   "mimetype": "text/x-r-source",
   "name": "R",
   "pygments_lexer": "r",
   "version": "3.3.2"
  }
 },
 "nbformat": 4,
 "nbformat_minor": 2
}
