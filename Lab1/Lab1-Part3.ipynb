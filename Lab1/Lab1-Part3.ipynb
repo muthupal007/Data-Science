{
 "cells": [
  {
   "cell_type": "code",
   "execution_count": 1,
   "metadata": {
    "collapsed": false
   },
   "outputs": [
    {
     "name": "stderr",
     "output_type": "stream",
     "text": [
      "Loading required package: ggplot2\n"
     ]
    },
    {
     "name": "stdout",
     "output_type": "stream",
     "text": [
      "[1] \"Using direct authentication\"\n"
     ]
    }
   ],
   "source": [
    "#Please enter your twitter keys\n",
    "\n",
    "library(twitteR)\n",
    "library(ggmap)\n",
    "api_key <- ''\n",
    "api_secret <- ''\n",
    "access_token <- ''\n",
    "access_secret <- ''\n",
    "\n",
    "setup_twitter_oauth(api_key,api_secret,access_token,access_secret)\n"
   ]
  },
  {
   "cell_type": "code",
   "execution_count": 2,
   "metadata": {
    "collapsed": false
   },
   "outputs": [
    {
     "name": "stderr",
     "output_type": "stream",
     "text": [
      "Information from URL : http://www.datasciencetoolkit.org/maps/api/geocode/json?address=Chennai&sensor=false\n"
     ]
    },
    {
     "name": "stdout",
     "output_type": "stream",
     "text": [
      "The top trending topics at Chennai are:"
     ]
    },
    {
     "data": {
      "text/html": [
       "<ol class=list-inline>\n",
       "\t<li>'#WalkForHealth'</li>\n",
       "\t<li>'#iVoteForCycle'</li>\n",
       "\t<li>'#जनता_कमल_के_साथ'</li>\n",
       "\t<li>'#भाजपा_को_वोट_दें'</li>\n",
       "\t<li>'#ShivajiMaharaj'</li>\n",
       "\t<li>'Aparna Yadav'</li>\n",
       "\t<li>'Hamilton'</li>\n",
       "\t<li>'King'</li>\n",
       "\t<li>'UP Assembly'</li>\n",
       "\t<li>'Running Successfully'</li>\n",
       "</ol>\n"
      ],
      "text/latex": [
       "\\begin{enumerate*}\n",
       "\\item '\\#WalkForHealth'\n",
       "\\item '\\#iVoteForCycle'\n",
       "\\item '\\#जनता\\_कमल\\_के\\_साथ'\n",
       "\\item '\\#भाजपा\\_को\\_वोट\\_दें'\n",
       "\\item '\\#ShivajiMaharaj'\n",
       "\\item 'Aparna Yadav'\n",
       "\\item 'Hamilton'\n",
       "\\item 'King'\n",
       "\\item 'UP Assembly'\n",
       "\\item 'Running Successfully'\n",
       "\\end{enumerate*}\n"
      ],
      "text/markdown": [
       "1. '#WalkForHealth'\n",
       "2. '#iVoteForCycle'\n",
       "3. '#जनता_कमल_के_साथ'\n",
       "4. '#भाजपा_को_वोट_दें'\n",
       "5. '#ShivajiMaharaj'\n",
       "6. 'Aparna Yadav'\n",
       "7. 'Hamilton'\n",
       "8. 'King'\n",
       "9. 'UP Assembly'\n",
       "10. 'Running Successfully'\n",
       "\n",
       "\n"
      ],
      "text/plain": [
       " [1] \"#WalkForHealth\"       \"#iVoteForCycle\"       \"#<U+091C><U+0928><U+0924><U+093E>_<U+0915><U+092E><U+0932>_<U+0915><U+0947>_<U+0938><U+093E><U+0925>\"\n",
       " [4] \"#<U+092D><U+093E><U+091C><U+092A><U+093E>_<U+0915><U+094B>_<U+0935><U+094B><U+091F>_<U+0926><U+0947><U+0902>\" \"#ShivajiMaharaj\"      \"Aparna Yadav\"        \n",
       " [7] \"Hamilton\"             \"King\"                 \"UP Assembly\"         \n",
       "[10] \"Running Successfully\""
      ]
     },
     "metadata": {},
     "output_type": "display_data"
    }
   ],
   "source": [
    "\n",
    "location <- 'Chennai'\n",
    "latlon <- geocode(location,source='dsk')\n",
    "#latlon\n",
    "if(is.na(latlon$lon)||is.na(latlon$lat))\n",
    "    {\n",
    "    print(\"Invalid location\")\n",
    "}else\n",
    "    {\n",
    "close_trends = closestTrendLocations(latlon$lat,latlon$lon)\n",
    "head(close_trends)\n",
    "trends = getTrends(close_trends$woeid)\n",
    "toptrends <- head(trends$name,n=10)\n",
    "cat(\"The top trending topics at\",location,\"are:\")\n",
    "toptrends\n",
    "\n",
    "\n",
    "}"
   ]
  }
 ],
 "metadata": {
  "kernelspec": {
   "display_name": "R",
   "language": "R",
   "name": "ir"
  },
  "language_info": {
   "codemirror_mode": "r",
   "file_extension": ".r",
   "mimetype": "text/x-r-source",
   "name": "R",
   "pygments_lexer": "r",
   "version": "3.3.2"
  }
 },
 "nbformat": 4,
 "nbformat_minor": 2
}
