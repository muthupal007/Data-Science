{
 "cells": [
  {
   "cell_type": "code",
   "execution_count": 269,
   "metadata": {
    "collapsed": false
   },
   "outputs": [],
   "source": [
    "data <- read.csv(\"german_credit_data1.csv\",stringsAsFactors=FALSE)"
   ]
  },
  {
   "cell_type": "code",
   "execution_count": 270,
   "metadata": {
    "collapsed": true
   },
   "outputs": [],
   "source": [
    "library(class)"
   ]
  },
  {
   "cell_type": "code",
   "execution_count": 271,
   "metadata": {
    "collapsed": false
   },
   "outputs": [],
   "source": [
    "data[is.na(data)] <- \"N/A\"\n",
    "\n"
   ]
  },
  {
   "cell_type": "code",
   "execution_count": 272,
   "metadata": {
    "collapsed": true
   },
   "outputs": [],
   "source": [
    "data <- within(data,Sex <- factor(Sex, labels = c(\"1\",\"2\")))"
   ]
  },
  {
   "cell_type": "code",
   "execution_count": 273,
   "metadata": {
    "collapsed": false
   },
   "outputs": [],
   "source": [
    "data <- within(data,Housing <- factor(Housing, labels = c(\"1\",\"2\",\"3\")))"
   ]
  },
  {
   "cell_type": "code",
   "execution_count": 274,
   "metadata": {
    "collapsed": false
   },
   "outputs": [],
   "source": [
    "data <- within(data,Saving.accounts <- factor(Saving.accounts, labels = c(\"1\",\"2\",\"3\",\"4\",\"5\")))"
   ]
  },
  {
   "cell_type": "code",
   "execution_count": 275,
   "metadata": {
    "collapsed": false
   },
   "outputs": [],
   "source": [
    "data <- within(data,Checking.account <- factor(Checking.account, labels = c(\"1\",\"2\",\"3\",\"4\")))"
   ]
  },
  {
   "cell_type": "code",
   "execution_count": 276,
   "metadata": {
    "collapsed": false
   },
   "outputs": [],
   "source": [
    "data <- data[,-1]\n",
    "data <- data[,-9]\n",
    "data$Age <- scale(data$Age)\n",
    "data$Credit.amount <- scale(data$Credit.amount)\n",
    "data$Duration <- scale(data$Duration)"
   ]
  },
  {
   "cell_type": "code",
   "execution_count": 277,
   "metadata": {
    "collapsed": false
   },
   "outputs": [],
   "source": [
    "npoints <- nrow(data)\n"
   ]
  },
  {
   "cell_type": "code",
   "execution_count": 278,
   "metadata": {
    "collapsed": false,
    "scrolled": true
   },
   "outputs": [],
   "source": [
    "training <- sample(1:npoints,0.8 * npoints, replace = FALSE)\n",
    "train <- subset(data[training,],)"
   ]
  },
  {
   "cell_type": "code",
   "execution_count": 279,
   "metadata": {
    "collapsed": false
   },
   "outputs": [],
   "source": [
    "testing <- setdiff(1:npoints, training) \n",
    "testsetlabels <- 0.2 * npoints\n",
    "test<-subset(data[testing,],)"
   ]
  },
  {
   "cell_type": "code",
   "execution_count": 280,
   "metadata": {
    "collapsed": true
   },
   "outputs": [],
   "source": [
    "cr<- data$Credit.Risks[training]\n",
    "truelabels <- data$Credit.Risks[testing]"
   ]
  },
  {
   "cell_type": "code",
   "execution_count": 281,
   "metadata": {
    "collapsed": false
   },
   "outputs": [],
   "source": [
    "Error <- data.frame()     \n",
    "for (k in 1:20){\n",
    "    \n",
    "        predicted <- knn(train, test, cr, k)   \n",
    "        # We're using the R function knn()   \n",
    "        incorrectlabels <- sum(predicted != truelabels)   \n",
    "        misclassificationrate <- incorrectlabels / testsetlabels\n",
    "        Error<-rbind(Error,c(k,misclassificationrate))\n",
    "    }\n",
    "    \n",
    "names(Error)<-c(\"K\",\"Error1\")\n",
    "#Error"
   ]
  },
  {
   "cell_type": "code",
   "execution_count": 282,
   "metadata": {
    "collapsed": false
   },
   "outputs": [],
   "source": [
    "training <- sample(1:npoints,0.7 * npoints, replace = FALSE)\n",
    "train <- subset(data[training,],)\n",
    "testing <- setdiff(1:npoints, training) \n",
    "testsetlabels <- 0.3 * npoints\n",
    "test<-subset(data[testing,],)\n",
    "cr<- data$Credit.Risks[training]\n",
    "truelabels <- data$Credit.Risks[testing]    \n",
    "for (k in 1:20){\n",
    "    \n",
    "        predicted <- knn(train, test, cr, k)   \n",
    "        # We're using the R function knn()   \n",
    "        incorrectlabels <- sum(predicted != truelabels)   \n",
    "        misclassificationrate <- incorrectlabels / testsetlabels\n",
    "        Error[k,3]<-misclassificationrate\n",
    "    }\n",
    "    \n",
    "names(Error)[3]<-\"Error2\"\n",
    "#Error"
   ]
  },
  {
   "cell_type": "code",
   "execution_count": 283,
   "metadata": {
    "collapsed": false
   },
   "outputs": [],
   "source": [
    "training <- sample(1:npoints,0.6 * npoints, replace = FALSE)\n",
    "train <- subset(data[training,],)\n",
    "testing <- setdiff(1:npoints, training) \n",
    "testsetlabels <- 0.4 * npoints\n",
    "test<-subset(data[testing,],)\n",
    "cr<- data$Credit.Risks[training]\n",
    "truelabels <- data$Credit.Risks[testing]    \n",
    "for (k in 1:20){\n",
    "    \n",
    "        predicted <- knn(train, test, cr, k)   \n",
    "        # We're using the R function knn()   \n",
    "        incorrectlabels <- sum(predicted != truelabels)   \n",
    "        misclassificationrate <- incorrectlabels / testsetlabels\n",
    "        Error[k,4]<-misclassificationrate\n",
    "    }\n",
    "    \n",
    "names(Error)[4]<-\"Error3\"\n",
    "#Error"
   ]
  },
  {
   "cell_type": "code",
   "execution_count": 284,
   "metadata": {
    "collapsed": false
   },
   "outputs": [
    {
     "data": {
      "text/html": [
       "<table>\n",
       "<thead><tr><th scope=col>K</th><th scope=col>Error1</th><th scope=col>Error2</th><th scope=col>Error3</th><th scope=col>Error4</th></tr></thead>\n",
       "<tbody>\n",
       "\t<tr><td> 1        </td><td>0.060     </td><td>0.07000000</td><td>0.0775    </td><td>0.084     </td></tr>\n",
       "\t<tr><td> 2        </td><td>0.070     </td><td>0.08666667</td><td>0.0825    </td><td>0.106     </td></tr>\n",
       "\t<tr><td> 3        </td><td>0.055     </td><td>0.05000000</td><td>0.0400    </td><td>0.086     </td></tr>\n",
       "\t<tr><td> 4        </td><td>0.070     </td><td>0.05000000</td><td>0.0450    </td><td>0.090     </td></tr>\n",
       "\t<tr><td> 5        </td><td>0.075     </td><td>0.04333333</td><td>0.0450    </td><td>0.078     </td></tr>\n",
       "\t<tr><td> 6        </td><td>0.085     </td><td>0.05666667</td><td>0.0650    </td><td>0.076     </td></tr>\n",
       "\t<tr><td> 7        </td><td>0.085     </td><td>0.04333333</td><td>0.0600    </td><td>0.080     </td></tr>\n",
       "\t<tr><td> 8        </td><td>0.090     </td><td>0.04333333</td><td>0.0650    </td><td>0.088     </td></tr>\n",
       "\t<tr><td> 9        </td><td>0.085     </td><td>0.05000000</td><td>0.0600    </td><td>0.088     </td></tr>\n",
       "\t<tr><td>10        </td><td>0.075     </td><td>0.05666667</td><td>0.0675    </td><td>0.086     </td></tr>\n",
       "\t<tr><td>11        </td><td>0.085     </td><td>0.07000000</td><td>0.0675    </td><td>0.090     </td></tr>\n",
       "\t<tr><td>12        </td><td>0.085     </td><td>0.06333333</td><td>0.0675    </td><td>0.090     </td></tr>\n",
       "\t<tr><td>13        </td><td>0.085     </td><td>0.06666667</td><td>0.0650    </td><td>0.096     </td></tr>\n",
       "\t<tr><td>14        </td><td>0.090     </td><td>0.07333333</td><td>0.0650    </td><td>0.088     </td></tr>\n",
       "\t<tr><td>15        </td><td>0.100     </td><td>0.06666667</td><td>0.0650    </td><td>0.100     </td></tr>\n",
       "\t<tr><td>16        </td><td>0.105     </td><td>0.06333333</td><td>0.0725    </td><td>0.096     </td></tr>\n",
       "\t<tr><td>17        </td><td>0.105     </td><td>0.05666667</td><td>0.0700    </td><td>0.096     </td></tr>\n",
       "\t<tr><td>18        </td><td>0.110     </td><td>0.06666667</td><td>0.0650    </td><td>0.100     </td></tr>\n",
       "\t<tr><td>19        </td><td>0.105     </td><td>0.06666667</td><td>0.0650    </td><td>0.104     </td></tr>\n",
       "\t<tr><td>20        </td><td>0.090     </td><td>0.06333333</td><td>0.0650    </td><td>0.098     </td></tr>\n",
       "</tbody>\n",
       "</table>\n"
      ],
      "text/latex": [
       "\\begin{tabular}{r|lllll}\n",
       " K & Error1 & Error2 & Error3 & Error4\\\\\n",
       "\\hline\n",
       "\t  1         & 0.060      & 0.07000000 & 0.0775     & 0.084     \\\\\n",
       "\t  2         & 0.070      & 0.08666667 & 0.0825     & 0.106     \\\\\n",
       "\t  3         & 0.055      & 0.05000000 & 0.0400     & 0.086     \\\\\n",
       "\t  4         & 0.070      & 0.05000000 & 0.0450     & 0.090     \\\\\n",
       "\t  5         & 0.075      & 0.04333333 & 0.0450     & 0.078     \\\\\n",
       "\t  6         & 0.085      & 0.05666667 & 0.0650     & 0.076     \\\\\n",
       "\t  7         & 0.085      & 0.04333333 & 0.0600     & 0.080     \\\\\n",
       "\t  8         & 0.090      & 0.04333333 & 0.0650     & 0.088     \\\\\n",
       "\t  9         & 0.085      & 0.05000000 & 0.0600     & 0.088     \\\\\n",
       "\t 10         & 0.075      & 0.05666667 & 0.0675     & 0.086     \\\\\n",
       "\t 11         & 0.085      & 0.07000000 & 0.0675     & 0.090     \\\\\n",
       "\t 12         & 0.085      & 0.06333333 & 0.0675     & 0.090     \\\\\n",
       "\t 13         & 0.085      & 0.06666667 & 0.0650     & 0.096     \\\\\n",
       "\t 14         & 0.090      & 0.07333333 & 0.0650     & 0.088     \\\\\n",
       "\t 15         & 0.100      & 0.06666667 & 0.0650     & 0.100     \\\\\n",
       "\t 16         & 0.105      & 0.06333333 & 0.0725     & 0.096     \\\\\n",
       "\t 17         & 0.105      & 0.05666667 & 0.0700     & 0.096     \\\\\n",
       "\t 18         & 0.110      & 0.06666667 & 0.0650     & 0.100     \\\\\n",
       "\t 19         & 0.105      & 0.06666667 & 0.0650     & 0.104     \\\\\n",
       "\t 20         & 0.090      & 0.06333333 & 0.0650     & 0.098     \\\\\n",
       "\\end{tabular}\n"
      ],
      "text/markdown": [
       "\n",
       "K | Error1 | Error2 | Error3 | Error4 | \n",
       "|---|---|---|---|---|---|---|---|---|---|---|---|---|---|---|---|---|---|---|---|\n",
       "|  1         | 0.060      | 0.07000000 | 0.0775     | 0.084      | \n",
       "|  2         | 0.070      | 0.08666667 | 0.0825     | 0.106      | \n",
       "|  3         | 0.055      | 0.05000000 | 0.0400     | 0.086      | \n",
       "|  4         | 0.070      | 0.05000000 | 0.0450     | 0.090      | \n",
       "|  5         | 0.075      | 0.04333333 | 0.0450     | 0.078      | \n",
       "|  6         | 0.085      | 0.05666667 | 0.0650     | 0.076      | \n",
       "|  7         | 0.085      | 0.04333333 | 0.0600     | 0.080      | \n",
       "|  8         | 0.090      | 0.04333333 | 0.0650     | 0.088      | \n",
       "|  9         | 0.085      | 0.05000000 | 0.0600     | 0.088      | \n",
       "| 10         | 0.075      | 0.05666667 | 0.0675     | 0.086      | \n",
       "| 11         | 0.085      | 0.07000000 | 0.0675     | 0.090      | \n",
       "| 12         | 0.085      | 0.06333333 | 0.0675     | 0.090      | \n",
       "| 13         | 0.085      | 0.06666667 | 0.0650     | 0.096      | \n",
       "| 14         | 0.090      | 0.07333333 | 0.0650     | 0.088      | \n",
       "| 15         | 0.100      | 0.06666667 | 0.0650     | 0.100      | \n",
       "| 16         | 0.105      | 0.06333333 | 0.0725     | 0.096      | \n",
       "| 17         | 0.105      | 0.05666667 | 0.0700     | 0.096      | \n",
       "| 18         | 0.110      | 0.06666667 | 0.0650     | 0.100      | \n",
       "| 19         | 0.105      | 0.06666667 | 0.0650     | 0.104      | \n",
       "| 20         | 0.090      | 0.06333333 | 0.0650     | 0.098      | \n",
       "\n",
       "\n"
      ],
      "text/plain": [
       "   K  Error1 Error2     Error3 Error4\n",
       "1   1 0.060  0.07000000 0.0775 0.084 \n",
       "2   2 0.070  0.08666667 0.0825 0.106 \n",
       "3   3 0.055  0.05000000 0.0400 0.086 \n",
       "4   4 0.070  0.05000000 0.0450 0.090 \n",
       "5   5 0.075  0.04333333 0.0450 0.078 \n",
       "6   6 0.085  0.05666667 0.0650 0.076 \n",
       "7   7 0.085  0.04333333 0.0600 0.080 \n",
       "8   8 0.090  0.04333333 0.0650 0.088 \n",
       "9   9 0.085  0.05000000 0.0600 0.088 \n",
       "10 10 0.075  0.05666667 0.0675 0.086 \n",
       "11 11 0.085  0.07000000 0.0675 0.090 \n",
       "12 12 0.085  0.06333333 0.0675 0.090 \n",
       "13 13 0.085  0.06666667 0.0650 0.096 \n",
       "14 14 0.090  0.07333333 0.0650 0.088 \n",
       "15 15 0.100  0.06666667 0.0650 0.100 \n",
       "16 16 0.105  0.06333333 0.0725 0.096 \n",
       "17 17 0.105  0.05666667 0.0700 0.096 \n",
       "18 18 0.110  0.06666667 0.0650 0.100 \n",
       "19 19 0.105  0.06666667 0.0650 0.104 \n",
       "20 20 0.090  0.06333333 0.0650 0.098 "
      ]
     },
     "metadata": {},
     "output_type": "display_data"
    }
   ],
   "source": [
    "training <- sample(1:npoints,0.5 * npoints, replace = FALSE)\n",
    "train <- subset(data[training,],)\n",
    "testing <- setdiff(1:npoints, training) \n",
    "testsetlabels <- 0.5 * npoints\n",
    "test<-subset(data[testing,],)\n",
    "cr<- data$Credit.Risks[training]\n",
    "truelabels <- data$Credit.Risks[testing]    \n",
    "for (k in 1:20){\n",
    "    \n",
    "        predicted <- knn(train, test, cr, k)   \n",
    "        # We're using the R function knn()   \n",
    "        incorrectlabels <- sum(predicted != truelabels)   \n",
    "        misclassificationrate <- incorrectlabels / testsetlabels\n",
    "        Error[k,5]<-misclassificationrate\n",
    "    }\n",
    "    \n",
    "names(Error)[5]<-\"Error4\"\n",
    "Error"
   ]
  },
  {
   "cell_type": "code",
   "execution_count": null,
   "metadata": {
    "collapsed": true
   },
   "outputs": [],
   "source": []
  }
 ],
 "metadata": {
  "kernelspec": {
   "display_name": "R",
   "language": "R",
   "name": "ir"
  },
  "language_info": {
   "codemirror_mode": "r",
   "file_extension": ".r",
   "mimetype": "text/x-r-source",
   "name": "R",
   "pygments_lexer": "r",
   "version": "3.3.2"
  }
 },
 "nbformat": 4,
 "nbformat_minor": 2
}
